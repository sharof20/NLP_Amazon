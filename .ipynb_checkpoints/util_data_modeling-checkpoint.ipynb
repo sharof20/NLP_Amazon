{
 "cells": [
  {
   "cell_type": "code",
   "execution_count": 1,
   "id": "9dad65e5",
   "metadata": {
    "executionInfo": {
     "elapsed": 670,
     "status": "ok",
     "timestamp": 1693822481204,
     "user": {
      "displayName": "Sharofiddin Juraev",
      "userId": "10378930749806600006"
     },
     "user_tz": -120
    },
    "id": "9dad65e5"
   },
   "outputs": [],
   "source": [
    "import pandas as pd\n",
    "import numpy as np\n",
    "import matplotlib.pyplot as plt\n",
    "import seaborn as sns\n",
    "%matplotlib inline"
   ]
  },
  {
   "cell_type": "code",
   "execution_count": 2,
   "id": "Tduk3mptBk_M",
   "metadata": {
    "colab": {
     "base_uri": "https://localhost:8080/"
    },
    "executionInfo": {
     "elapsed": 1710,
     "status": "ok",
     "timestamp": 1693822482911,
     "user": {
      "displayName": "Sharofiddin Juraev",
      "userId": "10378930749806600006"
     },
     "user_tz": -120
    },
    "id": "Tduk3mptBk_M",
    "outputId": "27d32e9b-1cb1-47d3-8c2c-b5c1f950683d"
   },
   "outputs": [
    {
     "name": "stdout",
     "output_type": "stream",
     "text": [
      "Drive already mounted at /content/drive; to attempt to forcibly remount, call drive.mount(\"/content/drive\", force_remount=True).\n"
     ]
    }
   ],
   "source": [
    "from google.colab import drive\n",
    "drive.mount('/content/drive')"
   ]
  },
  {
   "cell_type": "code",
   "execution_count": 3,
   "id": "594749fc",
   "metadata": {
    "executionInfo": {
     "elapsed": 1117,
     "status": "ok",
     "timestamp": 1693822484026,
     "user": {
      "displayName": "Sharofiddin Juraev",
      "userId": "10378930749806600006"
     },
     "user_tz": -120
    },
    "id": "594749fc"
   },
   "outputs": [],
   "source": [
    "df = pd.read_csv(\"/content/drive/MyDrive/ose final/data/cleaned data/last_cleaned_output.csv\")"
   ]
  },
  {
   "cell_type": "code",
   "execution_count": 4,
   "id": "d0a46150",
   "metadata": {
    "executionInfo": {
     "elapsed": 7,
     "status": "ok",
     "timestamp": 1693822484027,
     "user": {
      "displayName": "Sharofiddin Juraev",
      "userId": "10378930749806600006"
     },
     "user_tz": -120
    },
    "id": "d0a46150"
   },
   "outputs": [],
   "source": [
    "df = df.sample(n=1000)  # To take a random sample of 1000 rows"
   ]
  },
  {
   "cell_type": "markdown",
   "id": "9c8fcd71",
   "metadata": {
    "id": "9c8fcd71"
   },
   "source": [
    "Statistical Analysis"
   ]
  },
  {
   "cell_type": "code",
   "execution_count": 5,
   "id": "379829ca",
   "metadata": {
    "executionInfo": {
     "elapsed": 7,
     "status": "ok",
     "timestamp": 1693822484027,
     "user": {
      "displayName": "Sharofiddin Juraev",
      "userId": "10378930749806600006"
     },
     "user_tz": -120
    },
    "id": "379829ca",
    "scrolled": false
   },
   "outputs": [],
   "source": [
    "def dataframe_summary(df: pd.DataFrame) -> None:\n",
    "    \"\"\"\n",
    "    Display a summary of the provided DataFrame including:\n",
    "    - First 5 rows\n",
    "    - Shape of the DataFrame\n",
    "    - Descriptive statistics for the 'Rating' column\n",
    "    - Information about data types and non-null counts of the columns\n",
    "    - Count of unique values for each feature\n",
    "    - Value counts for the 'Rating' column\n",
    "\n",
    "    Args:\n",
    "    - df (pd.DataFrame): The input DataFrame for which the summary needs to be displayed.\n",
    "\n",
    "    Returns:\n",
    "    - None\n",
    "    \"\"\"\n",
    "\n",
    "    # Display the first 5 rows of the DataFrame\n",
    "    print(\"First 5 rows of the DataFrame:\")\n",
    "    print(df.head())\n",
    "    print(\"\\n\")  # Print newline for better formatting\n",
    "\n",
    "    # Display the shape of the DataFrame\n",
    "    print(f\"Shape of the DataFrame: {df.shape}\")\n",
    "    print(\"\\n\")  # Print newline for better formatting\n",
    "\n",
    "    # Display descriptive statistics for the 'Rating' column\n",
    "    print(\"Descriptive statistics for 'Rating':\")\n",
    "    print(df['Rating'].describe())\n",
    "    print(\"\\n\")  # Print newline for better formatting\n",
    "\n",
    "    # Display information about data types and non-null counts of the columns\n",
    "    print(\"Info about the DataFrame:\")\n",
    "    print(df.info())\n",
    "    print(\"\\n\")  # Print newline for better formatting\n",
    "\n",
    "    # Display the count of unique values for each feature\n",
    "    print(\"Unique value counts for each feature:\")\n",
    "    for col in df.columns:\n",
    "        unique_count = df[col].nunique()\n",
    "        print(f\"The feature '{col}' has {unique_count} distinct values.\")\n",
    "    print(\"\\n\")  # Print newline for better formatting\n",
    "\n",
    "    # Display value counts for the 'Rating' column\n",
    "    print(\"Value counts for 'Rating':\")\n",
    "    print(df['Rating'].value_counts())"
   ]
  },
  {
   "cell_type": "code",
   "execution_count": 6,
   "id": "eTvMUYnsyRkL",
   "metadata": {
    "colab": {
     "base_uri": "https://localhost:8080/"
    },
    "executionInfo": {
     "elapsed": 331,
     "status": "ok",
     "timestamp": 1693822484352,
     "user": {
      "displayName": "Sharofiddin Juraev",
      "userId": "10378930749806600006"
     },
     "user_tz": -120
    },
    "id": "eTvMUYnsyRkL",
    "outputId": "73bdc511-08a8-4f97-c584-77d7a6d0677a"
   },
   "outputs": [
    {
     "name": "stdout",
     "output_type": "stream",
     "text": [
      "First 5 rows of the DataFrame:\n",
      "         Index  Rating                                            Reviews\n",
      "10571   464102       4  it has a great response time but the keyboard ...\n",
      "107313   12616       5  we tried the cheaper ones but they didnt compa...\n",
      "8045    397458       5  great for mobile use slips in my pocket and pu...\n",
      "69449   495637       2  the monitor itself works very well  nice displ...\n",
      "129648   22859       5  to be clear i tried to buy my vitamix  usedlik...\n",
      "\n",
      "\n",
      "Shape of the DataFrame: (1000, 3)\n",
      "\n",
      "\n",
      "Descriptive statistics for 'Rating':\n",
      "count    1000.000000\n",
      "mean        3.812000\n",
      "std         1.570708\n",
      "min         1.000000\n",
      "25%         2.000000\n",
      "50%         5.000000\n",
      "75%         5.000000\n",
      "max         5.000000\n",
      "Name: Rating, dtype: float64\n",
      "\n",
      "\n",
      "Info about the DataFrame:\n",
      "<class 'pandas.core.frame.DataFrame'>\n",
      "Int64Index: 1000 entries, 10571 to 36579\n",
      "Data columns (total 3 columns):\n",
      " #   Column   Non-Null Count  Dtype \n",
      "---  ------   --------------  ----- \n",
      " 0   Index    1000 non-null   int64 \n",
      " 1   Rating   1000 non-null   int64 \n",
      " 2   Reviews  1000 non-null   object\n",
      "dtypes: int64(2), object(1)\n",
      "memory usage: 31.2+ KB\n",
      "None\n",
      "\n",
      "\n",
      "Unique value counts for each feature:\n",
      "The feature 'Index' has 1000 distinct values.\n",
      "The feature 'Rating' has 4 distinct values.\n",
      "The feature 'Reviews' has 1000 distinct values.\n",
      "\n",
      "\n",
      "Value counts for 'Rating':\n",
      "5    536\n",
      "4    188\n",
      "1    172\n",
      "2    104\n",
      "Name: Rating, dtype: int64\n"
     ]
    }
   ],
   "source": [
    "# Example usage:\n",
    "dataframe_summary(df)"
   ]
  },
  {
   "cell_type": "markdown",
   "id": "370e4cd1",
   "metadata": {
    "id": "370e4cd1"
   },
   "source": [
    "IMPUTING THE RATING FEATURE"
   ]
  },
  {
   "cell_type": "code",
   "execution_count": 7,
   "id": "LGRoNSfPLtkL",
   "metadata": {
    "executionInfo": {
     "elapsed": 10,
     "status": "ok",
     "timestamp": 1693822484352,
     "user": {
      "displayName": "Sharofiddin Juraev",
      "userId": "10378930749806600006"
     },
     "user_tz": -120
    },
    "id": "LGRoNSfPLtkL"
   },
   "outputs": [],
   "source": [
    "def process_ratings(df: pd.DataFrame) -> pd.DataFrame:\n",
    "    \"\"\"\n",
    "    Process the 'Rating' column of the DataFrame:\n",
    "    - Values below 3 are set to 0\n",
    "    - Values above 3 are set to 1\n",
    "    - Values exactly 3 remain unchanged\n",
    "\n",
    "    Args:\n",
    "    - df (pd.DataFrame): The input DataFrame containing the 'Rating' column to process.\n",
    "\n",
    "    Returns:\n",
    "    - pd.DataFrame: A copy of the original DataFrame with the processed 'Rating' column.\n",
    "    \"\"\"\n",
    "\n",
    "    # Create a copy of the DataFrame to avoid modifying the original\n",
    "    df_copy = df.copy()\n",
    "\n",
    "    # Process the 'Rating' column based on the given conditions\n",
    "    df_copy['Rating'] = np.where(\n",
    "        df_copy['Rating'] < 3, 0,\n",
    "        np.where(df_copy['Rating'] > 3, 1, df_copy['Rating'])\n",
    "    )\n",
    "\n",
    "    return df_copy"
   ]
  },
  {
   "cell_type": "code",
   "execution_count": 8,
   "id": "I9-pL6lYLv-A",
   "metadata": {
    "colab": {
     "base_uri": "https://localhost:8080/"
    },
    "executionInfo": {
     "elapsed": 10,
     "status": "ok",
     "timestamp": 1693822484353,
     "user": {
      "displayName": "Sharofiddin Juraev",
      "userId": "10378930749806600006"
     },
     "user_tz": -120
    },
    "id": "I9-pL6lYLv-A",
    "outputId": "d344372f-911b-448c-831c-b568a6f42abf"
   },
   "outputs": [
    {
     "name": "stdout",
     "output_type": "stream",
     "text": [
      "         Index  Rating                                            Reviews\n",
      "10571   464102       1  it has a great response time but the keyboard ...\n",
      "107313   12616       1  we tried the cheaper ones but they didnt compa...\n",
      "8045    397458       1  great for mobile use slips in my pocket and pu...\n",
      "69449   495637       0  the monitor itself works very well  nice displ...\n",
      "129648   22859       1  to be clear i tried to buy my vitamix  usedlik...\n"
     ]
    }
   ],
   "source": [
    "# Example usage:\n",
    "df = process_ratings(df)\n",
    "print(df.head())"
   ]
  },
  {
   "cell_type": "code",
   "execution_count": 9,
   "id": "btY5-M9SNdum",
   "metadata": {
    "executionInfo": {
     "elapsed": 8,
     "status": "ok",
     "timestamp": 1693822484353,
     "user": {
      "displayName": "Sharofiddin Juraev",
      "userId": "10378930749806600006"
     },
     "user_tz": -120
    },
    "id": "btY5-M9SNdum"
   },
   "outputs": [],
   "source": [
    "def undersample_majority(df: pd.DataFrame, column_name: str = 'Rating') -> pd.DataFrame:\n",
    "    \"\"\"\n",
    "    Undersample the majority class in a binary classification DataFrame.\n",
    "\n",
    "    This function balances the two classes by undersampling the majority class\n",
    "    to match the number of samples in the minority class.\n",
    "\n",
    "    Args:\n",
    "    - df (pd.DataFrame): The input DataFrame containing the binary classification data.\n",
    "    - column_name (str): The column with the binary labels. Default is 'Rating'.\n",
    "\n",
    "    Returns:\n",
    "    - pd.DataFrame: A balanced DataFrame with equal number of samples for each class.\n",
    "    \"\"\"\n",
    "\n",
    "    # Count the samples for each rating\n",
    "    count_0 = sum(df[column_name] == 0)\n",
    "    count_1 = sum(df[column_name] == 1)\n",
    "\n",
    "    # Undersample the majority class\n",
    "    if count_0 < count_1:\n",
    "        df_1 = df[df[column_name] == 1].sample(count_0)\n",
    "        df_0 = df[df[column_name] == 0]\n",
    "    else:\n",
    "        df_0 = df[df[column_name] == 0].sample(count_1)\n",
    "        df_1 = df[df[column_name] == 1]\n",
    "\n",
    "    # Concatenate the balanced datasets and return\n",
    "    balanced_df = pd.concat([df_0, df_1])\n",
    "\n",
    "    # Shuffle the entire dataset\n",
    "    balanced_df = balanced_df.sample(frac=1)\n",
    "\n",
    "    return balanced_df"
   ]
  },
  {
   "cell_type": "code",
   "execution_count": 10,
   "id": "re-5d7iaNgze",
   "metadata": {
    "colab": {
     "base_uri": "https://localhost:8080/"
    },
    "executionInfo": {
     "elapsed": 8,
     "status": "ok",
     "timestamp": 1693822484353,
     "user": {
      "displayName": "Sharofiddin Juraev",
      "userId": "10378930749806600006"
     },
     "user_tz": -120
    },
    "id": "re-5d7iaNgze",
    "outputId": "3946b4c1-af7f-4dfd-d2cb-fe942e783c19"
   },
   "outputs": [
    {
     "name": "stdout",
     "output_type": "stream",
     "text": [
      "1    276\n",
      "0    276\n",
      "Name: Rating, dtype: int64\n"
     ]
    }
   ],
   "source": [
    "# Example usage:\n",
    "df = undersample_majority(df)\n",
    "print(df['Rating'].value_counts())"
   ]
  },
  {
   "cell_type": "code",
   "execution_count": 11,
   "id": "UvkxCp2hOIll",
   "metadata": {
    "executionInfo": {
     "elapsed": 6,
     "status": "ok",
     "timestamp": 1693822484353,
     "user": {
      "displayName": "Sharofiddin Juraev",
      "userId": "10378930749806600006"
     },
     "user_tz": -120
    },
    "id": "UvkxCp2hOIll"
   },
   "outputs": [],
   "source": [
    "def add_word_count(df: pd.DataFrame, text_column: str = 'Reviews', new_column: str = 'count_words') -> pd.DataFrame:\n",
    "    \"\"\"\n",
    "    Add a new feature to the DataFrame that counts the number of words in a specified text column.\n",
    "\n",
    "    Args:\n",
    "    - df (pd.DataFrame): The input DataFrame.\n",
    "    - text_column (str): The column containing the text data for which word count needs to be computed. Default is 'Reviews'.\n",
    "    - new_column (str): The name of the new column where word count will be stored. Default is 'count_words'.\n",
    "\n",
    "    Returns:\n",
    "    - pd.DataFrame: A DataFrame with the new word count feature.\n",
    "    - int: The maximum word count across all rows in the DataFrame.\n",
    "    \"\"\"\n",
    "\n",
    "    # Create a copy of the DataFrame to avoid modifying the original\n",
    "    df_copy = df.copy()\n",
    "\n",
    "    # Add the 'count_words' feature\n",
    "    df_copy[new_column] = df_copy[text_column].apply(lambda x: len(str(x).split()))\n",
    "\n",
    "    # Return the modified DataFrame and the maximum word count\n",
    "    return df_copy, max(df_copy[new_column])"
   ]
  },
  {
   "cell_type": "code",
   "execution_count": 12,
   "id": "tNPXiNsWONYN",
   "metadata": {
    "colab": {
     "base_uri": "https://localhost:8080/"
    },
    "executionInfo": {
     "elapsed": 6,
     "status": "ok",
     "timestamp": 1693822484353,
     "user": {
      "displayName": "Sharofiddin Juraev",
      "userId": "10378930749806600006"
     },
     "user_tz": -120
    },
    "id": "tNPXiNsWONYN",
    "outputId": "acc1169b-c141-42e2-fb48-60a8c6c25952"
   },
   "outputs": [
    {
     "name": "stdout",
     "output_type": "stream",
     "text": [
      "Maximum word count in the DataFrame: 1011\n"
     ]
    }
   ],
   "source": [
    "# Example usage:\n",
    "df, max_count = add_word_count(df)\n",
    "print(f\"Maximum word count in the DataFrame: {max_count}\")"
   ]
  },
  {
   "cell_type": "markdown",
   "id": "81ba241c",
   "metadata": {
    "id": "81ba241c"
   },
   "source": [
    "PLOTTING avg. no. of words in positive(1) and negative(0) reviews"
   ]
  },
  {
   "cell_type": "code",
   "execution_count": 13,
   "id": "3444b121",
   "metadata": {
    "colab": {
     "base_uri": "https://localhost:8080/",
     "height": 1000
    },
    "executionInfo": {
     "elapsed": 833,
     "status": "ok",
     "timestamp": 1693822485182,
     "user": {
      "displayName": "Sharofiddin Juraev",
      "userId": "10378930749806600006"
     },
     "user_tz": -120
    },
    "id": "3444b121",
    "outputId": "3fdbcbfb-dc3c-49ae-9932-3d5fe474eb5e"
   },
   "outputs": [
    {
     "data": {
      "text/plain": [
       "Text(0.5, 1.0, 'Avg no. of words in Reviews Vs. Rating')"
      ]
     },
     "execution_count": 13,
     "metadata": {},
     "output_type": "execute_result"
    },
    {
     "data": {
      "image/png": "[encoded data removed]",
      "text/plain": [
       "<Figure size 2000x1400 with 1 Axes>"
      ]
     },
     "metadata": {},
     "output_type": "display_data"
    }
   ],
   "source": [
    "plt.figure(figsize=(20,14))\n",
    "sns.barplot(x='Rating', y='count_words', data=df)\n",
    "plt.title('Avg no. of words in Reviews Vs. Rating')"
   ]
  },
  {
   "cell_type": "code",
   "execution_count": 14,
   "id": "f3bc3ffc",
   "metadata": {
    "colab": {
     "base_uri": "https://localhost:8080/",
     "height": 1000
    },
    "executionInfo": {
     "elapsed": 583,
     "status": "ok",
     "timestamp": 1693822485762,
     "user": {
      "displayName": "Sharofiddin Juraev",
      "userId": "10378930749806600006"
     },
     "user_tz": -120
    },
    "id": "f3bc3ffc",
    "outputId": "1b3170dc-b778-469a-e004-d1c2c235235e"
   },
   "outputs": [
    {
     "data": {
      "image/png": "[encoded data removed]",
      "text/plain": [
       "<Figure size 2000x1400 with 1 Axes>"
      ]
     },
     "metadata": {},
     "output_type": "display_data"
    }
   ],
   "source": [
    "plt.figure(figsize=(20, 14))\n",
    "sns.boxplot(x='Rating', y='count_words', data=df)\n",
    "plt.title('Distribution of words in Reviews Vs. Rating')\n",
    "plt.show()"
   ]
  },
  {
   "cell_type": "markdown",
   "id": "a053af7f",
   "metadata": {
    "id": "a053af7f"
   },
   "source": [
    "Observation:\n",
    "1.From the above plot we can see that Avg. No. of Words in Positive Review is slightly more than the Avg. No. of Words in Negative review."
   ]
  },
  {
   "cell_type": "markdown",
   "id": "f31b8705",
   "metadata": {
    "id": "f31b8705"
   },
   "source": [
    "Displaying null values if any in any feature"
   ]
  },
  {
   "cell_type": "code",
   "execution_count": 15,
   "id": "3ea90ba1",
   "metadata": {
    "colab": {
     "base_uri": "https://localhost:8080/"
    },
    "executionInfo": {
     "elapsed": 8,
     "status": "ok",
     "timestamp": 1693822485762,
     "user": {
      "displayName": "Sharofiddin Juraev",
      "userId": "10378930749806600006"
     },
     "user_tz": -120
    },
    "id": "3ea90ba1",
    "outputId": "934393fb-7cbe-430f-e051-fdab60db6c72",
    "scrolled": false
   },
   "outputs": [
    {
     "name": "stdout",
     "output_type": "stream",
     "text": [
      "Index          0\n",
      "Rating         0\n",
      "Reviews        0\n",
      "count_words    0\n",
      "dtype: int64\n"
     ]
    }
   ],
   "source": [
    "print(df.isna().sum())"
   ]
  },
  {
   "cell_type": "markdown",
   "id": "7e55a41d",
   "metadata": {
    "id": "7e55a41d"
   },
   "source": [
    "SPLITTING THE DATA INTO TRAIN & TEST SET"
   ]
  },
  {
   "cell_type": "code",
   "execution_count": 16,
   "id": "ddca3936",
   "metadata": {
    "executionInfo": {
     "elapsed": 6,
     "status": "ok",
     "timestamp": 1693822485763,
     "user": {
      "displayName": "Sharofiddin Juraev",
      "userId": "10378930749806600006"
     },
     "user_tz": -120
    },
    "id": "ddca3936"
   },
   "outputs": [],
   "source": [
    "from sklearn.model_selection import train_test_split #1"
   ]
  },
  {
   "cell_type": "code",
   "execution_count": 17,
   "id": "zukqDFIWmIgX",
   "metadata": {
    "executionInfo": {
     "elapsed": 6,
     "status": "ok",
     "timestamp": 1693822485763,
     "user": {
      "displayName": "Sharofiddin Juraev",
      "userId": "10378930749806600006"
     },
     "user_tz": -120
    },
    "id": "zukqDFIWmIgX"
   },
   "outputs": [],
   "source": [
    "train,test=train_test_split(df, test_size=0.3)"
   ]
  },
  {
   "cell_type": "code",
   "execution_count": 18,
   "id": "1ae61712",
   "metadata": {
    "colab": {
     "base_uri": "https://localhost:8080/"
    },
    "executionInfo": {
     "elapsed": 5,
     "status": "ok",
     "timestamp": 1693822485763,
     "user": {
      "displayName": "Sharofiddin Juraev",
      "userId": "10378930749806600006"
     },
     "user_tz": -120
    },
    "id": "1ae61712",
    "outputId": "bb161319-b307-40a7-c7da-ade74d3192b7"
   },
   "outputs": [
    {
     "name": "stdout",
     "output_type": "stream",
     "text": [
      "(386, 4)\n",
      "(166, 4)\n"
     ]
    }
   ],
   "source": [
    "# Displaying the shape of training set\n",
    "print(train.shape)\n",
    "\n",
    "# Displaying the shape of test set\n",
    "print(test.shape)"
   ]
  },
  {
   "cell_type": "markdown",
   "id": "70d0c207",
   "metadata": {
    "id": "70d0c207"
   },
   "source": [
    "5. DATA CLEANING"
   ]
  },
  {
   "cell_type": "markdown",
   "id": "bff5fc63",
   "metadata": {
    "id": "bff5fc63"
   },
   "source": [
    "Importing the NLTK tools"
   ]
  },
  {
   "cell_type": "code",
   "execution_count": 19,
   "id": "0b960a39",
   "metadata": {
    "colab": {
     "base_uri": "https://localhost:8080/"
    },
    "executionInfo": {
     "elapsed": 836,
     "status": "ok",
     "timestamp": 1693822486596,
     "user": {
      "displayName": "Sharofiddin Juraev",
      "userId": "10378930749806600006"
     },
     "user_tz": -120
    },
    "id": "0b960a39",
    "outputId": "541b5139-9145-49ec-e530-2c0f9c1141fe"
   },
   "outputs": [
    {
     "name": "stderr",
     "output_type": "stream",
     "text": [
      "[nltk_data] Downloading package wordnet to /root/nltk_data...\n",
      "[nltk_data]   Package wordnet is already up-to-date!\n",
      "[nltk_data] Downloading package stopwords to /root/nltk_data...\n",
      "[nltk_data]   Package stopwords is already up-to-date!\n",
      "[nltk_data] Downloading package punkt to /root/nltk_data...\n",
      "[nltk_data]   Package punkt is already up-to-date!\n"
     ]
    }
   ],
   "source": [
    "import nltk\n",
    "nltk.download('wordnet')\n",
    "nltk.download('stopwords')\n",
    "nltk.download('punkt')\n",
    "from nltk.corpus import stopwords\n",
    "STOPWORDS = set(stopwords.words('english'))\n",
    "from nltk.tokenize import word_tokenize\n",
    "import re"
   ]
  },
  {
   "cell_type": "markdown",
   "id": "1ec3a3d6",
   "metadata": {
    "id": "1ec3a3d6"
   },
   "source": [
    "Importing other necessary Libraries"
   ]
  },
  {
   "cell_type": "code",
   "execution_count": 20,
   "id": "29be3abc",
   "metadata": {
    "colab": {
     "base_uri": "https://localhost:8080/"
    },
    "executionInfo": {
     "elapsed": 1436,
     "status": "ok",
     "timestamp": 1693822488029,
     "user": {
      "displayName": "Sharofiddin Juraev",
      "userId": "10378930749806600006"
     },
     "user_tz": -120
    },
    "id": "29be3abc",
    "outputId": "83ae046f-e6b1-4088-bf49-77fc5f11dd78",
    "scrolled": true
   },
   "outputs": [
    {
     "name": "stderr",
     "output_type": "stream",
     "text": [
      "[nltk_data] Downloading package omw-1.4 to /root/nltk_data...\n",
      "[nltk_data]   Package omw-1.4 is already up-to-date!\n"
     ]
    }
   ],
   "source": [
    "#!pip3 install inflect\n",
    "import inflect\n",
    "p = inflect.engine()\n",
    "from nltk.stem import WordNetLemmatizer\n",
    "nltk.download('omw-1.4')\n",
    "import gensim\n",
    "import string"
   ]
  },
  {
   "cell_type": "markdown",
   "id": "847e9099",
   "metadata": {
    "id": "847e9099"
   },
   "source": [
    "Defining a text-preprocessing function"
   ]
  },
  {
   "cell_type": "code",
   "execution_count": 21,
   "id": "xqx4zWqOkGpV",
   "metadata": {
    "executionInfo": {
     "elapsed": 5,
     "status": "ok",
     "timestamp": 1693822488030,
     "user": {
      "displayName": "Sharofiddin Juraev",
      "userId": "10378930749806600006"
     },
     "user_tz": -120
    },
    "id": "xqx4zWqOkGpV"
   },
   "outputs": [],
   "source": [
    "def remove_emoji(text):\n",
    "    \"\"\"\n",
    "    Remove emojis from a given text string.\n",
    "\n",
    "    Parameters:\n",
    "    - text (str): The input string containing emojis.\n",
    "\n",
    "    Returns:\n",
    "    - str: The input string with emojis removed.\n",
    "    \"\"\"\n",
    "    # Unicode patterns for various emojis\n",
    "    emoji_pattern = re.compile(\"[\"\n",
    "                               u\"\\U0001F600-\\U0001F64F\"  # emoticons\n",
    "                               u\"\\U0001F300-\\U0001F5FF\"  # symbols & pictographs\n",
    "                               u\"\\U0001F680-\\U0001F6FF\"  # transport & map symbols\n",
    "                               u\"\\U0001F1E0-\\U0001F1FF\"  # flags (iOS)\n",
    "                               u\"\\U00002702-\\U000027B0\"\n",
    "                               u\"\\U000024C2-\\U0001F251\"\n",
    "                               \"]+\", flags = re.UNICODE)\n",
    "\n",
    "    # Removing emojis from the text\n",
    "    return emoji_pattern.sub(r'', text)\n"
   ]
  },
  {
   "cell_type": "code",
   "execution_count": 22,
   "id": "4-F-03V5kMfN",
   "metadata": {
    "executionInfo": {
     "elapsed": 4,
     "status": "ok",
     "timestamp": 1693822488030,
     "user": {
      "displayName": "Sharofiddin Juraev",
      "userId": "10378930749806600006"
     },
     "user_tz": -120
    },
    "id": "4-F-03V5kMfN"
   },
   "outputs": [],
   "source": [
    "def text_Preprocessing(texts):\n",
    "    \"\"\"\n",
    "    Preprocess a list of text strings by performing the following:\n",
    "    - Lowercasing\n",
    "    - Removing emails\n",
    "    - Removing digits\n",
    "    - Removing special characters\n",
    "    - Removing stopwords\n",
    "    - Lemmatization\n",
    "\n",
    "    Parameters:\n",
    "    - texts (list of str): List of text strings to preprocess.\n",
    "\n",
    "    Returns:\n",
    "    - list of str: List of preprocessed text strings.\n",
    "    \"\"\"\n",
    "    # Convert to lowercase\n",
    "    reviews = [text.lower() for text in texts]\n",
    "\n",
    "    # Remove emails\n",
    "    reviews = [re.sub(r'\\S+@\\S+', '', text) for text in reviews]\n",
    "\n",
    "    # Remove digits\n",
    "    reviews = [re.sub(r'\\d+', '', text) for text in reviews]\n",
    "\n",
    "    # Remove special characters\n",
    "    reviews = [re.sub(r'[^\\w\\s]', '', text) for text in reviews]\n",
    "\n",
    "    # Remove extra spaces\n",
    "    reviews = [text.strip() for text in reviews]\n",
    "\n",
    "    # Remove emojis\n",
    "    reviews = [remove_emoji(text) for text in reviews]\n",
    "\n",
    "    # Define stopwords\n",
    "    stop_words = set(stopwords.words('english'))\n",
    "\n",
    "    # Remove stopwords\n",
    "    cleaned_reviews = []\n",
    "    for review in reviews:\n",
    "        tokens = [word for word in word_tokenize(review) if not word in stop_words]\n",
    "        cleaned_reviews.append(\" \".join(tokens))\n",
    "\n",
    "    # Lemmatization\n",
    "    lemmatizer = WordNetLemmatizer()\n",
    "    lem_reviews = []\n",
    "    for review in cleaned_reviews:\n",
    "        lem_reviews.append(\" \".join(list(map(lemmatizer.lemmatize, word_tokenize(review)))))\n",
    "\n",
    "    return lem_reviews"
   ]
  },
  {
   "cell_type": "markdown",
   "id": "7d428fea",
   "metadata": {
    "id": "7d428fea"
   },
   "source": [
    "Preprocessing train and test reviews"
   ]
  },
  {
   "cell_type": "code",
   "execution_count": 23,
   "id": "a1dd1b9e",
   "metadata": {
    "executionInfo": {
     "elapsed": 5252,
     "status": "ok",
     "timestamp": 1693822493278,
     "user": {
      "displayName": "Sharofiddin Juraev",
      "userId": "10378930749806600006"
     },
     "user_tz": -120
    },
    "id": "a1dd1b9e"
   },
   "outputs": [],
   "source": [
    "t = train['Reviews']\n",
    "train['Reviews'] = text_Preprocessing(t)\n",
    "\n",
    "f = test['Reviews']\n",
    "test['Reviews'] = text_Preprocessing(f)"
   ]
  },
  {
   "cell_type": "code",
   "execution_count": 24,
   "id": "09ffaa90",
   "metadata": {
    "colab": {
     "base_uri": "https://localhost:8080/"
    },
    "executionInfo": {
     "elapsed": 14,
     "status": "ok",
     "timestamp": 1693822493279,
     "user": {
      "displayName": "Sharofiddin Juraev",
      "userId": "10378930749806600006"
     },
     "user_tz": -120
    },
    "id": "09ffaa90",
    "outputId": "918e766d-394d-4348-a8af-7173c225e8fd",
    "scrolled": true
   },
   "outputs": [
    {
     "data": {
      "text/plain": [
       "46633     arrived nicely packaged this is a nice monitor...\n",
       "123123    i am unable to answer the questions as to how ...\n",
       "125121    delivered with a defective battery or battery ...\n",
       "24515     initially thought the battery was included but...\n",
       "30905               i believe it was refurbishedrefurbished\n",
       "Name: Reviews, dtype: object"
      ]
     },
     "execution_count": 24,
     "metadata": {},
     "output_type": "execute_result"
    }
   ],
   "source": [
    "t.head()"
   ]
  },
  {
   "cell_type": "markdown",
   "id": "52ed47c6",
   "metadata": {
    "id": "52ed47c6"
   },
   "source": [
    "Word Counts after Preprocessing"
   ]
  },
  {
   "cell_type": "code",
   "execution_count": 25,
   "id": "QfgB3T7ek1iN",
   "metadata": {
    "executionInfo": {
     "elapsed": 11,
     "status": "ok",
     "timestamp": 1693822493279,
     "user": {
      "displayName": "Sharofiddin Juraev",
      "userId": "10378930749806600006"
     },
     "user_tz": -120
    },
    "id": "QfgB3T7ek1iN"
   },
   "outputs": [],
   "source": [
    "def add_word_count_after_preprocessing(df, review_column_name):\n",
    "    \"\"\"\n",
    "    Adds a new column to a DataFrame containing the count of words in each review after preprocessing.\n",
    "\n",
    "    Parameters:\n",
    "    - df (DataFrame): The DataFrame containing the reviews.\n",
    "    - review_column_name (str): The name of the column in the DataFrame that contains the reviews.\n",
    "\n",
    "    Returns:\n",
    "    - DataFrame: The original DataFrame with an additional column named 'count_words_after_preprocess'.\n",
    "    \"\"\"\n",
    "    # Lambda function to count words in each review\n",
    "    count_words_lambda = lambda x: len(str(x).split())\n",
    "\n",
    "    # Create a new column in DataFrame to store word count after preprocessing\n",
    "    new_column_name = 'count_words_after_preprocess'\n",
    "    df[new_column_name] = df[review_column_name].apply(count_words_lambda)\n",
    "\n",
    "    return df"
   ]
  },
  {
   "cell_type": "code",
   "execution_count": 26,
   "id": "uaouy0ONk4g0",
   "metadata": {
    "colab": {
     "base_uri": "https://localhost:8080/"
    },
    "executionInfo": {
     "elapsed": 11,
     "status": "ok",
     "timestamp": 1693822493279,
     "user": {
      "displayName": "Sharofiddin Juraev",
      "userId": "10378930749806600006"
     },
     "user_tz": -120
    },
    "id": "uaouy0ONk4g0",
    "outputId": "c522a7ff-d28d-413a-862a-c77b05c2a980"
   },
   "outputs": [
    {
     "name": "stdout",
     "output_type": "stream",
     "text": [
      "Train DataFrame:\n",
      "         Index  Rating                                            Reviews  \\\n",
      "46633   497304       1  arrived nicely packaged nice monitor work well...   \n",
      "123123  522792       0  unable answer question well camera record come...   \n",
      "125121  522975       0  delivered defective battery battery chargerwor...   \n",
      "24515   413795       1  initially thought battery included unfortunate...   \n",
      "30905    66372       1                     believe refurbishedrefurbished   \n",
      "\n",
      "        count_words  count_words_after_preprocess  \n",
      "46633            45                            26  \n",
      "123123           44                            19  \n",
      "125121           22                            12  \n",
      "24515            18                            11  \n",
      "30905             5                             2  \n",
      "\n",
      "Test DataFrame:\n",
      "         Index  Rating                                            Reviews  \\\n",
      "113412  426164       1  using laptop longtime often finger would get t...   \n",
      "44554   299043       1  headset sound great comfortable caller hear fi...   \n",
      "70600   301379       1  nothing special get midgrade lightweight heads...   \n",
      "84278   369598       1  mouse feel performs great left right button si...   \n",
      "107135  527446       0  bought thought full spectrum ir mode paranorma...   \n",
      "\n",
      "        count_words  count_words_after_preprocess  \n",
      "113412           56                            27  \n",
      "44554            63                            35  \n",
      "70600           194                           102  \n",
      "84278            31                            18  \n",
      "107135           24                            11  \n"
     ]
    }
   ],
   "source": [
    "# Adding the word count after preprocessing columns\n",
    "train = add_word_count_after_preprocessing(train, 'Reviews')\n",
    "test = add_word_count_after_preprocessing(test, 'Reviews')\n",
    "\n",
    "# Displaying the DataFrames to check the added columns\n",
    "print(\"Train DataFrame:\")\n",
    "print(train.head())\n",
    "\n",
    "print(\"\\nTest DataFrame:\")\n",
    "print(test.head())"
   ]
  },
  {
   "cell_type": "markdown",
   "id": "c9b033e0",
   "metadata": {
    "id": "c9b033e0"
   },
   "source": [
    "DEFINING MODEL"
   ]
  },
  {
   "cell_type": "code",
   "execution_count": 27,
   "id": "8pBOGe0z6XEK",
   "metadata": {
    "executionInfo": {
     "elapsed": 7,
     "status": "ok",
     "timestamp": 1693822493279,
     "user": {
      "displayName": "Sharofiddin Juraev",
      "userId": "10378930749806600006"
     },
     "user_tz": -120
    },
    "id": "8pBOGe0z6XEK"
   },
   "outputs": [],
   "source": [
    "def separate_features_and_target(train: pd.DataFrame, test: pd.DataFrame, target_col: str):\n",
    "    \"\"\"\n",
    "    Separates features and target variables for training and testing sets.\n",
    "\n",
    "    Parameters:\n",
    "    train (pd.DataFrame): The training data set.\n",
    "    test (pd.DataFrame): The testing data set.\n",
    "    target_col (str): The name of the target variable column in the DataFrame.\n",
    "\n",
    "    Returns:\n",
    "    tuple: Returns four DataFrames:\n",
    "           - X_train: Feature variables for the training set.\n",
    "           - y_train: Target variable for the training set.\n",
    "           - X_test: Feature variables for the testing set.\n",
    "           - y_test: Target variable for the testing set.\n",
    "    \"\"\"\n",
    "\n",
    "    # Extract target column ('Rating') from the training set\n",
    "    y_train = train[target_col].copy()\n",
    "    # Drop the target column from the feature set for training\n",
    "    X_train = train.drop(target_col, axis=1)\n",
    "\n",
    "    # Extract target column ('Rating') from the testing set\n",
    "    y_test = test[target_col].copy()\n",
    "    # Drop the target column from the feature set for testing\n",
    "    X_test = test.drop(target_col, axis=1)\n",
    "\n",
    "    return X_train, y_train, X_test, y_test"
   ]
  },
  {
   "cell_type": "code",
   "execution_count": 28,
   "id": "iDOWgONO6roD",
   "metadata": {
    "colab": {
     "base_uri": "https://localhost:8080/"
    },
    "executionInfo": {
     "elapsed": 7,
     "status": "ok",
     "timestamp": 1693822493279,
     "user": {
      "displayName": "Sharofiddin Juraev",
      "userId": "10378930749806600006"
     },
     "user_tz": -120
    },
    "id": "iDOWgONO6roD",
    "outputId": "477e1eca-3130-4a8c-cbbf-83b57ae2cb89"
   },
   "outputs": [
    {
     "name": "stdout",
     "output_type": "stream",
     "text": [
      "X_train:\n",
      "         Index                                            Reviews  \\\n",
      "46633   497304  arrived nicely packaged nice monitor work well...   \n",
      "123123  522792  unable answer question well camera record come...   \n",
      "125121  522975  delivered defective battery battery chargerwor...   \n",
      "24515   413795  initially thought battery included unfortunate...   \n",
      "30905    66372                     believe refurbishedrefurbished   \n",
      "\n",
      "        count_words  count_words_after_preprocess  \n",
      "46633            45                            26  \n",
      "123123           44                            19  \n",
      "125121           22                            12  \n",
      "24515            18                            11  \n",
      "30905             5                             2  \n",
      "\n",
      "y_train:\n",
      "46633     1\n",
      "123123    0\n",
      "125121    0\n",
      "24515     1\n",
      "30905     1\n",
      "Name: Rating, dtype: int64\n",
      "\n",
      "X_test:\n",
      "         Index                                            Reviews  \\\n",
      "113412  426164  using laptop longtime often finger would get t...   \n",
      "44554   299043  headset sound great comfortable caller hear fi...   \n",
      "70600   301379  nothing special get midgrade lightweight heads...   \n",
      "84278   369598  mouse feel performs great left right button si...   \n",
      "107135  527446  bought thought full spectrum ir mode paranorma...   \n",
      "\n",
      "        count_words  count_words_after_preprocess  \n",
      "113412           56                            27  \n",
      "44554            63                            35  \n",
      "70600           194                           102  \n",
      "84278            31                            18  \n",
      "107135           24                            11  \n",
      "\n",
      "y_test:\n",
      "113412    1\n",
      "44554     1\n",
      "70600     1\n",
      "84278     1\n",
      "107135    0\n",
      "Name: Rating, dtype: int64\n"
     ]
    }
   ],
   "source": [
    "# Example Usage\n",
    "X_train, y_train, X_test, y_test = separate_features_and_target(train, test, 'Rating')\n",
    "\n",
    "# Displaying the separated features and target variables\n",
    "print(\"X_train:\")\n",
    "print(X_train.head())\n",
    "print(\"\\ny_train:\")\n",
    "print(y_train.head())\n",
    "print(\"\\nX_test:\")\n",
    "print(X_test.head())\n",
    "print(\"\\ny_test:\")\n",
    "print(y_test.head())"
   ]
  },
  {
   "cell_type": "markdown",
   "id": "ffad045d",
   "metadata": {
    "id": "ffad045d"
   },
   "source": [
    "TOKENIZATION"
   ]
  },
  {
   "cell_type": "code",
   "execution_count": 29,
   "id": "b2c48354",
   "metadata": {
    "executionInfo": {
     "elapsed": 5496,
     "status": "ok",
     "timestamp": 1693822498772,
     "user": {
      "displayName": "Sharofiddin Juraev",
      "userId": "10378930749806600006"
     },
     "user_tz": -120
    },
    "id": "b2c48354"
   },
   "outputs": [],
   "source": [
    "import tensorflow as tf\n",
    "from tensorflow.keras.preprocessing.text import Tokenizer"
   ]
  },
  {
   "cell_type": "code",
   "execution_count": 30,
   "id": "50uTgFO4Jm4K",
   "metadata": {
    "executionInfo": {
     "elapsed": 5,
     "status": "ok",
     "timestamp": 1693822498773,
     "user": {
      "displayName": "Sharofiddin Juraev",
      "userId": "10378930749806600006"
     },
     "user_tz": -120
    },
    "id": "50uTgFO4Jm4K"
   },
   "outputs": [],
   "source": [
    "def tokenize_reviews(X_train, X_test, tokenizer):\n",
    "    \"\"\"\n",
    "    Tokenizes the \"Reviews\" column in the training and testing DataFrames and adds the tokenized sequences as a new column.\n",
    "\n",
    "    Parameters:\n",
    "        X_train (DataFrame): The training dataset containing a \"Reviews\" column with text data to tokenize.\n",
    "        X_test (DataFrame): The testing dataset containing a \"Reviews\" column with text data to tokenize.\n",
    "        tokenizer (Tokenizer): The fitted Keras Tokenizer object.\n",
    "\n",
    "    Returns:\n",
    "        X_train (DataFrame): The training dataset with the new \"text_tokenizer\" column containing tokenized sequences.\n",
    "        X_test (DataFrame): The testing dataset with the new \"text_tokenizer\" column containing tokenized sequences.\n",
    "    \"\"\"\n",
    "\n",
    "    # Tokenize the \"Reviews\" column in the training dataset and store it in a new column called \"text_tokenizer\"\n",
    "    X_train['text_tokenizer'] = tokenizer.texts_to_sequences(X_train['Reviews'].values)\n",
    "\n",
    "    # Tokenize the \"Reviews\" column in the testing dataset and store it in a new column called \"text_tokenizer\"\n",
    "    X_test['text_tokenizer'] = tokenizer.texts_to_sequences(X_test['Reviews'].values)\n",
    "\n",
    "    return X_train, X_test"
   ]
  },
  {
   "cell_type": "code",
   "execution_count": 31,
   "id": "9GNA0BVJJokl",
   "metadata": {
    "executionInfo": {
     "elapsed": 4,
     "status": "ok",
     "timestamp": 1693822498773,
     "user": {
      "displayName": "Sharofiddin Juraev",
      "userId": "10378930749806600006"
     },
     "user_tz": -120
    },
    "id": "9GNA0BVJJokl"
   },
   "outputs": [],
   "source": [
    "# Example usage:\n",
    "tokenizer = Tokenizer(num_words=15000)\n",
    "tokenizer.fit_on_texts(X_train['Reviews'])\n",
    "X_train, X_test = tokenize_reviews(X_train, X_test, tokenizer)"
   ]
  },
  {
   "cell_type": "markdown",
   "id": "c2a3b995",
   "metadata": {
    "id": "c2a3b995"
   },
   "source": [
    "PADDING AND TRUNCATING"
   ]
  },
  {
   "cell_type": "code",
   "execution_count": 32,
   "id": "430f077f",
   "metadata": {
    "executionInfo": {
     "elapsed": 3,
     "status": "ok",
     "timestamp": 1693822498773,
     "user": {
      "displayName": "Sharofiddin Juraev",
      "userId": "10378930749806600006"
     },
     "user_tz": -120
    },
    "id": "430f077f"
   },
   "outputs": [],
   "source": [
    "from tensorflow.keras.preprocessing import sequence"
   ]
  },
  {
   "cell_type": "code",
   "execution_count": 33,
   "id": "qVawPuuoCl5I",
   "metadata": {
    "executionInfo": {
     "elapsed": 336,
     "status": "ok",
     "timestamp": 1693822499106,
     "user": {
      "displayName": "Sharofiddin Juraev",
      "userId": "10378930749806600006"
     },
     "user_tz": -120
    },
    "id": "qVawPuuoCl5I"
   },
   "outputs": [],
   "source": [
    "def pad_text_sequences(X_train: pd.DataFrame, X_test: pd.DataFrame, maxlen: int = 1500) -> (pd.DataFrame, pd.DataFrame):\n",
    "    \"\"\"\n",
    "    Pads the text token sequences in the 'text_tokenizer' column of both training and testing sets to a fixed length.\n",
    "\n",
    "    Parameters:\n",
    "    X_train (pd.DataFrame): The feature variables for the training set with a 'text_tokenizer' column.\n",
    "    X_test (pd.DataFrame): The feature variables for the testing set with a 'text_tokenizer' column.\n",
    "    maxlen (int): The maximum length to which the sequences will be padded.\n",
    "\n",
    "    Returns:\n",
    "    tuple: Returns two NumPy arrays:\n",
    "           - X_train_pad: The padded sequences for the training set.\n",
    "           - X_test_pad: The padded sequences for the testing set.\n",
    "    \"\"\"\n",
    "\n",
    "    # Pad the token sequences in the 'text_tokenizer' column of the training set\n",
    "    X_train_pad = sequence.pad_sequences(X_train['text_tokenizer'].values, maxlen=maxlen, padding='post')\n",
    "\n",
    "    # Pad the token sequences in the 'text_tokenizer' column of the testing set\n",
    "    X_test_pad = sequence.pad_sequences(X_test['text_tokenizer'].values, maxlen=maxlen, padding='post')\n",
    "\n",
    "    return X_train_pad, X_test_pad"
   ]
  },
  {
   "cell_type": "code",
   "execution_count": 34,
   "id": "evP1dg4GCsEU",
   "metadata": {
    "colab": {
     "base_uri": "https://localhost:8080/"
    },
    "executionInfo": {
     "elapsed": 4,
     "status": "ok",
     "timestamp": 1693822499106,
     "user": {
      "displayName": "Sharofiddin Juraev",
      "userId": "10378930749806600006"
     },
     "user_tz": -120
    },
    "id": "evP1dg4GCsEU",
    "outputId": "aba515ba-3901-4fcf-d45c-e18aba6ea2c0"
   },
   "outputs": [
    {
     "name": "stdout",
     "output_type": "stream",
     "text": [
      "First padded sequence in X_train_pad:\n",
      "[409 410 791 ...   0   0   0]\n",
      "\n",
      "First padded sequence in X_test_pad:\n",
      "[ 69  34 337 ...   0   0   0]\n"
     ]
    }
   ],
   "source": [
    "# Example usage:\n",
    "# Assume that X_train and X_test are already loaded as Pandas DataFrames and have a 'text_tokenizer' column\n",
    "X_train_pad, X_test_pad = pad_text_sequences(X_train, X_test)\n",
    "\n",
    "# Displaying the first padded sequence of each set\n",
    "print(\"First padded sequence in X_train_pad:\")\n",
    "print(X_train_pad[0])\n",
    "print(\"\\nFirst padded sequence in X_test_pad:\")\n",
    "print(X_test_pad[0])"
   ]
  },
  {
   "cell_type": "code",
   "execution_count": 5,
   "id": "5bdc7fef",
   "metadata": {},
   "outputs": [
    {
     "name": "stdout",
     "output_type": "stream",
     "text": [
      "GloVe embeddings already exist. Skipping download.\n"
     ]
    }
   ],
   "source": [
    "import os\n",
    "import urllib.request\n",
    "\n",
    "# Define the URL and the local path where the file should be saved\n",
    "GLOVE_URL = 'https://nlp.stanford.edu/data/glove.twitter.27B.zip'\n",
    "GLOVE_DIR = 'data/glove'\n",
    "\n",
    "# Create the directory if it doesn't exist\n",
    "if not os.path.exists(GLOVE_DIR):\n",
    "    os.makedirs(GLOVE_DIR)\n",
    "\n",
    "# Define the path to check if the file is already downloaded\n",
    "glove_zip_path = os.path.join(GLOVE_DIR, 'glove.twitter.27B.zip')\n",
    "\n",
    "# Check if the file is already downloaded. If not, download it.\n",
    "if not os.path.exists(glove_zip_path):\n",
    "    print(\"GloVe embeddings not found. Downloading...\")\n",
    "    urllib.request.urlretrieve(GLOVE_URL, glove_zip_path)\n",
    "    print(f\"Downloaded GloVe embeddings to {glove_zip_path}\")\n",
    "else:\n",
    "    print(\"GloVe embeddings already exist. Skipping download.\")"
   ]
  },
  {
   "cell_type": "code",
   "execution_count": 3,
   "id": "5542434e",
   "metadata": {},
   "outputs": [
    {
     "name": "stdout",
     "output_type": "stream",
     "text": [
      "The file exists at data\\glove\\glove.twitter.27B.zip\n"
     ]
    }
   ],
   "source": [
    "\"\"\" import os\n",
    "\n",
    "# Define the URL and the local path where the file should be saved\n",
    "GLOVE_URL = 'https://nlp.stanford.edu/data/glove.twitter.27B.zip'\n",
    "GLOVE_DIR = 'data\\glove'\n",
    "\n",
    "# Define the path to check if the file is already downloaded\n",
    "glove_zip_path = os.path.join(GLOVE_DIR, 'glove.twitter.27B.zip')\n",
    "\n",
    "# Check if the file exists\n",
    "if os.path.exists(glove_zip_path):\n",
    "    print(f\"The file exists at {glove_zip_path}\")\n",
    "else:\n",
    "    print(f\"The file does not exist at {glove_zip_path}\") \"\"\""
   ]
  },
  {
   "cell_type": "code",
   "execution_count": 35,
   "id": "p9E6Fn6sEj6R",
   "metadata": {
    "executionInfo": {
     "elapsed": 2,
     "status": "ok",
     "timestamp": 1693822499106,
     "user": {
      "displayName": "Sharofiddin Juraev",
      "userId": "10378930749806600006"
     },
     "user_tz": -120
    },
    "id": "p9E6Fn6sEj6R"
   },
   "outputs": [],
   "source": [
    "def load_glove_embeddings(glove_file_path: str):\n",
    "    \"\"\"\n",
    "    Load GloVe vectors from a text file into a Python dictionary.\n",
    "\n",
    "    Parameters:\n",
    "    glove_file_path (str): The path to the GloVe file containing the pre-trained word vectors.\n",
    "\n",
    "    Returns:\n",
    "    tuple: Returns a dictionary and a set:\n",
    "           - glove: A dictionary where keys are words and values are the corresponding GloVe vectors.\n",
    "           - glove_words: A set containing the words that have GloVe vectors.\n",
    "    \"\"\"\n",
    "\n",
    "    # Initialize an empty dictionary to store the GloVe vectors\n",
    "    glove = {}\n",
    "\n",
    "    # Open the GloVe file and read line by line\n",
    "    with open(glove_file_path, 'r', encoding='utf-8') as f:\n",
    "        for line in f:\n",
    "            # Split each line to get the word and its corresponding vector\n",
    "            values = line.split()\n",
    "            word = values[0]\n",
    "            # Convert the vector values to a NumPy array of type float32\n",
    "            vector = np.asarray(values[1:], dtype='float32')\n",
    "\n",
    "            # Populate the dictionary with the word and its corresponding vector\n",
    "            glove[word] = vector\n",
    "\n",
    "    # Create a set containing the words that have GloVe vectors\n",
    "    glove_words = set(glove.keys())\n",
    "\n",
    "    return glove, glove_words"
   ]
  },
  {
   "cell_type": "code",
   "execution_count": 36,
   "id": "5ZmsZJBREng_",
   "metadata": {
    "colab": {
     "base_uri": "https://localhost:8080/"
    },
    "executionInfo": {
     "elapsed": 45451,
     "status": "ok",
     "timestamp": 1693822544556,
     "user": {
      "displayName": "Sharofiddin Juraev",
      "userId": "10378930749806600006"
     },
     "user_tz": -120
    },
    "id": "5ZmsZJBREng_",
    "outputId": "d40e5ac0-2f20-4afd-a821-55a0c0286cf0"
   },
   "outputs": [
    {
     "name": "stdout",
     "output_type": "stream",
     "text": [
      "Number of words in GloVe: 1193514\n"
     ]
    }
   ],
   "source": [
    "# Example usage:\n",
    "# Replace this with the actual path to your GloVe file\n",
    "glove_file_path = \"/content/drive/MyDrive/ose final/glove.twitter.27B/glove.twitter.27B.100d.txt\"\n",
    "\n",
    "glove, glove_words = load_glove_embeddings(glove_file_path)\n",
    "\n",
    "# Displaying some information about the loaded embeddings\n",
    "print(f\"Number of words in GloVe: {len(glove_words)}\")"
   ]
  },
  {
   "cell_type": "markdown",
   "id": "Dov4TCA4Mpsc",
   "metadata": {
    "id": "Dov4TCA4Mpsc"
   },
   "source": [
    "Write what is glove about, how it works, and cite it\n"
   ]
  },
  {
   "cell_type": "code",
   "execution_count": 37,
   "id": "gb3RkA7wHK_P",
   "metadata": {
    "executionInfo": {
     "elapsed": 9,
     "status": "ok",
     "timestamp": 1693822544557,
     "user": {
      "displayName": "Sharofiddin Juraev",
      "userId": "10378930749806600006"
     },
     "user_tz": -120
    },
    "id": "gb3RkA7wHK_P"
   },
   "outputs": [],
   "source": [
    "from numpy import zeros"
   ]
  },
  {
   "cell_type": "code",
   "execution_count": 38,
   "id": "OkECioNwHAIQ",
   "metadata": {
    "executionInfo": {
     "elapsed": 8,
     "status": "ok",
     "timestamp": 1693822544557,
     "user": {
      "displayName": "Sharofiddin Juraev",
      "userId": "10378930749806600006"
     },
     "user_tz": -120
    },
    "id": "OkECioNwHAIQ"
   },
   "outputs": [],
   "source": [
    "def create_embedding_matrix(tokenizer, glove_words, glove, embedding_dim=100):\n",
    "    \"\"\"\n",
    "    Create an embedding matrix using pre-trained GloVe vectors.\n",
    "\n",
    "    Parameters:\n",
    "    tokenizer (Tokenizer): A trained Keras Tokenizer object.\n",
    "    glove_words (set): A set containing words that have GloVe vectors.\n",
    "    glove (dict): A dictionary where keys are words and values are their corresponding GloVe vectors.\n",
    "    embedding_dim (int): The number of dimensions for the GloVe word vectors. Default is 100.\n",
    "\n",
    "    Returns:\n",
    "    np.ndarray: A NumPy array representing the embedding matrix.\n",
    "    \"\"\"\n",
    "\n",
    "    # Get the vocabulary size from the tokenizer's word index\n",
    "    max_vocabulary = len(tokenizer.word_index)\n",
    "\n",
    "    # Initialize a matrix with zeros having shape (max_vocabulary+1, embedding_dim)\n",
    "    embedding_matrix = zeros((max_vocabulary+1, embedding_dim))\n",
    "\n",
    "    # Fill in the embedding matrix\n",
    "    for word, i in tokenizer.word_index.items():\n",
    "        # Check if the word exists in the GloVe word set\n",
    "        if word in glove_words:\n",
    "            # Get the GloVe vector for the word\n",
    "            embedding_vector = glove[word]\n",
    "            # Insert the GloVe vector in the embedding matrix at index i\n",
    "            embedding_matrix[i] = embedding_vector\n",
    "\n",
    "    return embedding_matrix"
   ]
  },
  {
   "cell_type": "code",
   "execution_count": 39,
   "id": "dEXGy8GFHCIM",
   "metadata": {
    "colab": {
     "base_uri": "https://localhost:8080/"
    },
    "executionInfo": {
     "elapsed": 7,
     "status": "ok",
     "timestamp": 1693822544557,
     "user": {
      "displayName": "Sharofiddin Juraev",
      "userId": "10378930749806600006"
     },
     "user_tz": -120
    },
    "id": "dEXGy8GFHCIM",
    "outputId": "44f299ff-c2c7-4f0e-e900-2d31a3013536"
   },
   "outputs": [
    {
     "name": "stdout",
     "output_type": "stream",
     "text": [
      "Shape of embedding matrix: (3456, 100)\n"
     ]
    }
   ],
   "source": [
    "# Example usage:\n",
    "# Assume tokenizer, glove_words, and glove are already defined\n",
    "# embedding_dim is optional and defaults to 100\n",
    "embedding_matrix = create_embedding_matrix(tokenizer, glove_words, glove)\n",
    "\n",
    "# Displaying some information about the created embedding matrix\n",
    "print(f\"Shape of embedding matrix: {embedding_matrix.shape}\")"
   ]
  },
  {
   "cell_type": "code",
   "execution_count": 40,
   "id": "9b10418a",
   "metadata": {
    "executionInfo": {
     "elapsed": 4,
     "status": "ok",
     "timestamp": 1693822544557,
     "user": {
      "displayName": "Sharofiddin Juraev",
      "userId": "10378930749806600006"
     },
     "user_tz": -120
    },
    "id": "9b10418a"
   },
   "outputs": [],
   "source": [
    "from tensorflow.python.keras.utils import np_utils\n",
    "X_train = X_train_pad\n",
    "X_test = X_test_pad\n",
    "Y_train = y_train\n",
    "Y_test = y_test"
   ]
  },
  {
   "cell_type": "code",
   "execution_count": 41,
   "id": "09f1d04e",
   "metadata": {
    "executionInfo": {
     "elapsed": 5,
     "status": "ok",
     "timestamp": 1693822544558,
     "user": {
      "displayName": "Sharofiddin Juraev",
      "userId": "10378930749806600006"
     },
     "user_tz": -120
    },
    "id": "09f1d04e"
   },
   "outputs": [],
   "source": [
    "# Use tensorboard for further explanations\n",
    "from tensorflow.keras.layers import Dense, Input, Dropout, Flatten, concatenate, LSTM, Conv1D, BatchNormalization, Bidirectional\n",
    "from tensorflow.keras.regularizers import l2\n",
    "from tensorflow.keras.layers import Embedding\n",
    "from tensorflow.keras.models import Model, load_model"
   ]
  },
  {
   "cell_type": "code",
   "execution_count": 42,
   "id": "S1QsxnjM2mD4",
   "metadata": {
    "executionInfo": {
     "elapsed": 4,
     "status": "ok",
     "timestamp": 1693822544558,
     "user": {
      "displayName": "Sharofiddin Juraev",
      "userId": "10378930749806600006"
     },
     "user_tz": -120
    },
    "id": "S1QsxnjM2mD4"
   },
   "outputs": [],
   "source": [
    "# review = Input(shape = (1500,), name = 'review_input')\n",
    "\n",
    "# X = Embedding(output_dim = 100, input_dim = max_vocabulary + 1, input_length = 1460, weights = [embedding_matrix], trainable = False)(review)\n",
    "# lstm_review = Bidirectional(LSTM(100))(X)\n",
    "\n",
    "# model = Dropout(0.5)(lstm_review)\n",
    "\n",
    "# model = Flatten()(model)\n",
    "\n",
    "# model = Dense(64, activation = \"relu\", kernel_initializer = \"he_normal\", kernel_regularizer = l2(0.001))(model)\n",
    "\n",
    "# model = Dense(8, activation = \"relu\", kernel_initializer = \"he_normal\", kernel_regularizer = l2(0.001))(model)\n",
    "\n",
    "# output = Dense(1, activation = 'sigmoid', name = 'output')(model)\n",
    "\n",
    "# model = Model(inputs = [review], outputs = [output])\n",
    "\n",
    "# print(model.summary())"
   ]
  },
  {
   "cell_type": "code",
   "execution_count": 43,
   "id": "99_AodJol_Zi",
   "metadata": {
    "executionInfo": {
     "elapsed": 4,
     "status": "ok",
     "timestamp": 1693822544558,
     "user": {
      "displayName": "Sharofiddin Juraev",
      "userId": "10378930749806600006"
     },
     "user_tz": -120
    },
    "id": "99_AodJol_Zi"
   },
   "outputs": [],
   "source": [
    "def create_review_model(embedding_matrix, max_vocabulary):\n",
    "    \"\"\"\n",
    "    Creates a Keras model for text classification based on reviews.\n",
    "\n",
    "    Parameters:\n",
    "        embedding_matrix (ndarray): Pre-trained embedding weights.\n",
    "        max_vocabulary (int): Maximum number of unique words in the vocabulary.\n",
    "\n",
    "    Returns:\n",
    "        model (Model): The Keras Model object.\n",
    "    \"\"\"\n",
    "\n",
    "    # Define the shape of the input for the review (1500 tokens)\n",
    "    review = Input(shape=(1500,), name='review_input')\n",
    "\n",
    "    # Embedding layer\n",
    "    # Uses pre-trained weights (embedding_matrix) and sets it to non-trainable\n",
    "    X = Embedding(output_dim=100,\n",
    "                  input_dim=max_vocabulary + 1,\n",
    "                  input_length=1460,\n",
    "                  weights=[embedding_matrix],\n",
    "                  trainable=False)(review)\n",
    "\n",
    "    # LSTM layer\n",
    "    # Uses Bidirectional LSTM with 100 units\n",
    "    lstm_review = Bidirectional(LSTM(100))(X)\n",
    "\n",
    "    # Dropout layer to reduce overfitting\n",
    "    model = Dropout(0.5)(lstm_review)\n",
    "\n",
    "    # Flatten layer to prepare for dense layers\n",
    "    model = Flatten()(model)\n",
    "\n",
    "    # First Dense layer with 64 units, ReLU activation, and L2 regularization\n",
    "    model = Dense(64, activation=\"relu\", kernel_initializer=\"he_normal\", kernel_regularizer=l2(0.001))(model)\n",
    "\n",
    "    # Second Dense layer with 8 units, ReLU activation, and L2 regularization\n",
    "    model = Dense(8, activation=\"relu\", kernel_initializer=\"he_normal\", kernel_regularizer=l2(0.001))(model)\n",
    "\n",
    "    # Output layer with 1 unit (binary classification) and Sigmoid activation\n",
    "    output = Dense(1, activation='sigmoid', name='output')(model)\n",
    "\n",
    "    # Compile the model\n",
    "    model = Model(inputs=[review], outputs=[output])\n",
    "\n",
    "    # Print a summary of the model's architecture\n",
    "    print(model.summary())\n",
    "\n",
    "    return model"
   ]
  },
  {
   "cell_type": "code",
   "execution_count": 44,
   "id": "5nUEHzeqmCIx",
   "metadata": {
    "colab": {
     "base_uri": "https://localhost:8080/"
    },
    "executionInfo": {
     "elapsed": 2865,
     "status": "ok",
     "timestamp": 1693822547419,
     "user": {
      "displayName": "Sharofiddin Juraev",
      "userId": "10378930749806600006"
     },
     "user_tz": -120
    },
    "id": "5nUEHzeqmCIx",
    "outputId": "d129c761-52a9-4aa3-8c1f-e2d74df5b97e"
   },
   "outputs": [
    {
     "name": "stdout",
     "output_type": "stream",
     "text": [
      "Model: \"model\"\n",
      "_________________________________________________________________\n",
      " Layer (type)                Output Shape              Param #   \n",
      "=================================================================\n",
      " review_input (InputLayer)   [(None, 1500)]            0         \n",
      "                                                                 \n",
      " embedding (Embedding)       (None, 1500, 100)         345600    \n",
      "                                                                 \n",
      " bidirectional (Bidirectiona  (None, 200)              160800    \n",
      " l)                                                              \n",
      "                                                                 \n",
      " dropout (Dropout)           (None, 200)               0         \n",
      "                                                                 \n",
      " flatten (Flatten)           (None, 200)               0         \n",
      "                                                                 \n",
      " dense (Dense)               (None, 64)                12864     \n",
      "                                                                 \n",
      " dense_1 (Dense)             (None, 8)                 520       \n",
      "                                                                 \n",
      " output (Dense)              (None, 1)                 9         \n",
      "                                                                 \n",
      "=================================================================\n",
      "Total params: 519,793\n",
      "Trainable params: 174,193\n",
      "Non-trainable params: 345,600\n",
      "_________________________________________________________________\n",
      "None\n"
     ]
    }
   ],
   "source": [
    "# Example usage:\n",
    "# Assuming `embedding_matrix` is a pre-trained word embedding matrix and `max_vocabulary` is the maximum vocabulary size\n",
    "max_vocabulary = len(tokenizer.word_index)\n",
    "model = create_review_model(embedding_matrix, max_vocabulary)"
   ]
  },
  {
   "cell_type": "code",
   "execution_count": 45,
   "id": "b03eaeec",
   "metadata": {
    "executionInfo": {
     "elapsed": 11,
     "status": "ok",
     "timestamp": 1693822547420,
     "user": {
      "displayName": "Sharofiddin Juraev",
      "userId": "10378930749806600006"
     },
     "user_tz": -120
    },
    "id": "b03eaeec",
    "scrolled": true
   },
   "outputs": [],
   "source": [
    "#!pip install pydot"
   ]
  },
  {
   "cell_type": "code",
   "execution_count": 46,
   "id": "b9d3e9f3",
   "metadata": {
    "executionInfo": {
     "elapsed": 10,
     "status": "ok",
     "timestamp": 1693822547420,
     "user": {
      "displayName": "Sharofiddin Juraev",
      "userId": "10378930749806600006"
     },
     "user_tz": -120
    },
    "id": "b9d3e9f3"
   },
   "outputs": [],
   "source": [
    "# import pydot\n",
    "# print(pydot.Dot.create(pydot.Dot()))"
   ]
  },
  {
   "cell_type": "code",
   "execution_count": 47,
   "id": "5bab34f8",
   "metadata": {
    "colab": {
     "base_uri": "https://localhost:8080/",
     "height": 865
    },
    "collapsed": true,
    "executionInfo": {
     "elapsed": 11,
     "status": "ok",
     "timestamp": 1693822547421,
     "user": {
      "displayName": "Sharofiddin Juraev",
      "userId": "10378930749806600006"
     },
     "user_tz": -120
    },
    "id": "5bab34f8",
    "outputId": "aed2389f-6661-4778-d641-cfd09189e242"
   },
   "outputs": [
    {
     "data": {
      "image/png": "[encoded data removed]",
      "text/plain": [
       "<IPython.core.display.Image object>"
      ]
     },
     "execution_count": 47,
     "metadata": {},
     "output_type": "execute_result"
    }
   ],
   "source": [
    "from tensorflow.keras.utils import plot_model\n",
    "plot_model(model, show_shapes = True, show_layer_names = True)"
   ]
  },
  {
   "cell_type": "markdown",
   "id": "c3ed7944",
   "metadata": {
    "id": "c3ed7944"
   },
   "source": [
    "TRAINING THE MODEL"
   ]
  },
  {
   "cell_type": "code",
   "execution_count": 48,
   "id": "d30d12b6",
   "metadata": {
    "colab": {
     "base_uri": "https://localhost:8080/"
    },
    "executionInfo": {
     "elapsed": 24052,
     "status": "ok",
     "timestamp": 1693822571464,
     "user": {
      "displayName": "Sharofiddin Juraev",
      "userId": "10378930749806600006"
     },
     "user_tz": -120
    },
    "id": "d30d12b6",
    "outputId": "6333de68-e62d-421b-f5eb-6a43fa9c7f10",
    "scrolled": false
   },
   "outputs": [
    {
     "name": "stdout",
     "output_type": "stream",
     "text": [
      "Epoch 1/20\n",
      "7/7 [==============================] - 8s 263ms/step - loss: 0.8444 - accuracy: 0.4948 - val_loss: 0.8223 - val_accuracy: 0.4940\n",
      "Epoch 2/20\n",
      "7/7 [==============================] - 1s 122ms/step - loss: 0.8210 - accuracy: 0.5363 - val_loss: 0.8060 - val_accuracy: 0.7108\n",
      "Epoch 3/20\n",
      "7/7 [==============================] - 1s 119ms/step - loss: 0.7883 - accuracy: 0.6917 - val_loss: 0.7537 - val_accuracy: 0.7229\n",
      "Epoch 4/20\n",
      "7/7 [==============================] - 1s 120ms/step - loss: 0.7610 - accuracy: 0.6528 - val_loss: 0.6984 - val_accuracy: 0.7892\n",
      "Epoch 5/20\n",
      "7/7 [==============================] - 1s 138ms/step - loss: 0.7240 - accuracy: 0.6969 - val_loss: 0.6534 - val_accuracy: 0.8072\n",
      "Epoch 6/20\n",
      "7/7 [==============================] - 1s 142ms/step - loss: 0.6863 - accuracy: 0.7124 - val_loss: 0.6231 - val_accuracy: 0.7892\n",
      "Epoch 7/20\n",
      "7/7 [==============================] - 1s 143ms/step - loss: 0.6389 - accuracy: 0.7565 - val_loss: 0.5645 - val_accuracy: 0.8072\n",
      "Epoch 8/20\n",
      "7/7 [==============================] - 1s 148ms/step - loss: 0.5708 - accuracy: 0.7979 - val_loss: 0.5713 - val_accuracy: 0.8133\n",
      "Epoch 9/20\n",
      "7/7 [==============================] - 1s 123ms/step - loss: 0.7486 - accuracy: 0.7383 - val_loss: 1.1478 - val_accuracy: 0.5301\n",
      "Epoch 10/20\n",
      "7/7 [==============================] - 1s 121ms/step - loss: 1.0675 - accuracy: 0.5259 - val_loss: 0.8265 - val_accuracy: 0.5602\n",
      "Epoch 11/20\n",
      "7/7 [==============================] - 1s 123ms/step - loss: 0.7960 - accuracy: 0.5803 - val_loss: 0.7256 - val_accuracy: 0.6325\n",
      "Epoch 12/20\n",
      "7/7 [==============================] - 1s 121ms/step - loss: 0.7500 - accuracy: 0.6269 - val_loss: 0.7350 - val_accuracy: 0.6988\n",
      "Epoch 13/20\n",
      "7/7 [==============================] - 1s 122ms/step - loss: 0.7514 - accuracy: 0.5933 - val_loss: 0.7149 - val_accuracy: 0.7530\n",
      "Epoch 14/20\n",
      "7/7 [==============================] - 1s 124ms/step - loss: 0.7326 - accuracy: 0.6295 - val_loss: 0.6982 - val_accuracy: 0.7108\n",
      "Epoch 15/20\n",
      "7/7 [==============================] - 1s 119ms/step - loss: 0.7128 - accuracy: 0.6554 - val_loss: 0.6862 - val_accuracy: 0.6446\n",
      "Epoch 16/20\n",
      "7/7 [==============================] - 1s 122ms/step - loss: 0.6955 - accuracy: 0.6554 - val_loss: 0.6846 - val_accuracy: 0.6205\n",
      "Epoch 17/20\n",
      "7/7 [==============================] - 1s 118ms/step - loss: 0.6886 - accuracy: 0.6658 - val_loss: 0.6552 - val_accuracy: 0.6867\n",
      "Epoch 18/20\n",
      "7/7 [==============================] - 1s 124ms/step - loss: 0.6600 - accuracy: 0.7021 - val_loss: 0.5963 - val_accuracy: 0.7952\n",
      "Epoch 19/20\n",
      "7/7 [==============================] - 1s 120ms/step - loss: 0.6434 - accuracy: 0.7332 - val_loss: 0.5699 - val_accuracy: 0.7771\n",
      "Epoch 20/20\n",
      "7/7 [==============================] - 1s 122ms/step - loss: 0.6120 - accuracy: 0.7435 - val_loss: 0.5424 - val_accuracy: 0.8012\n"
     ]
    }
   ],
   "source": [
    "model.compile(optimizer = 'adam', loss = 'binary_crossentropy', metrics = ['accuracy'])\n",
    "history = model.fit(X_train, Y_train, batch_size = 64, epochs = 20, verbose = 1, validation_data = (X_test, Y_test))"
   ]
  },
  {
   "cell_type": "markdown",
   "id": "40oqaP9wFdUo",
   "metadata": {
    "id": "40oqaP9wFdUo"
   },
   "source": [
    "SAVING THE MODEL"
   ]
  },
  {
   "cell_type": "code",
   "execution_count": 49,
   "id": "132ec1d6",
   "metadata": {
    "executionInfo": {
     "elapsed": 9,
     "status": "ok",
     "timestamp": 1693822571465,
     "user": {
      "displayName": "Sharofiddin Juraev",
      "userId": "10378930749806600006"
     },
     "user_tz": -120
    },
    "id": "132ec1d6"
   },
   "outputs": [],
   "source": [
    "model.save(\"Amazon_Reviews_Model.h5\")"
   ]
  },
  {
   "cell_type": "code",
   "execution_count": 50,
   "id": "eQ2dtC4cFjh9",
   "metadata": {
    "colab": {
     "base_uri": "https://localhost:8080/",
     "height": 17
    },
    "executionInfo": {
     "elapsed": 7,
     "status": "ok",
     "timestamp": 1693822571465,
     "user": {
      "displayName": "Sharofiddin Juraev",
      "userId": "10378930749806600006"
     },
     "user_tz": -120
    },
    "id": "eQ2dtC4cFjh9",
    "outputId": "b7dda69b-e850-426c-cc6a-e5b1e5a1bcd1"
   },
   "outputs": [
    {
     "data": {
      "application/javascript": "\n    async function download(id, filename, size) {\n      if (!google.colab.kernel.accessAllowed) {\n        return;\n      }\n      const div = document.createElement('div');\n      const label = document.createElement('label');\n      label.textContent = `Downloading \"${filename}\": `;\n      div.appendChild(label);\n      const progress = document.createElement('progress');\n      progress.max = size;\n      div.appendChild(progress);\n      document.body.appendChild(div);\n\n      const buffers = [];\n      let downloaded = 0;\n\n      const channel = await google.colab.kernel.comms.open(id);\n      // Send a message to notify the kernel that we're ready.\n      channel.send({})\n\n      for await (const message of channel.messages) {\n        // Send a message to notify the kernel that we're ready.\n        channel.send({})\n        if (message.buffers) {\n          for (const buffer of message.buffers) {\n            buffers.push(buffer);\n            downloaded += buffer.byteLength;\n            progress.value = downloaded;\n          }\n        }\n      }\n      const blob = new Blob(buffers, {type: 'application/binary'});\n      const a = document.createElement('a');\n      a.href = window.URL.createObjectURL(blob);\n      a.download = filename;\n      div.appendChild(a);\n      a.click();\n      div.remove();\n    }\n  ",
      "text/plain": [
       "<IPython.core.display.Javascript object>"
      ]
     },
     "metadata": {},
     "output_type": "display_data"
    },
    {
     "data": {
      "application/javascript": "download(\"download_b9e27a53-f5ce-4f66-9608-847bf0d064e3\", \"Amazon_Reviews_Model.h5\", 3536296)",
      "text/plain": [
       "<IPython.core.display.Javascript object>"
      ]
     },
     "metadata": {},
     "output_type": "display_data"
    }
   ],
   "source": [
    "from google.colab import files\n",
    "files.download(\"Amazon_Reviews_Model.h5\")"
   ]
  },
  {
   "cell_type": "markdown",
   "id": "O5KjpChnFpHo",
   "metadata": {
    "id": "O5KjpChnFpHo"
   },
   "source": [
    "LOADING THE MODEL"
   ]
  },
  {
   "cell_type": "code",
   "execution_count": 52,
   "id": "kaNUbs0UGz32",
   "metadata": {
    "executionInfo": {
     "elapsed": 1006,
     "status": "ok",
     "timestamp": 1693822572465,
     "user": {
      "displayName": "Sharofiddin Juraev",
      "userId": "10378930749806600006"
     },
     "user_tz": -120
    },
    "id": "kaNUbs0UGz32"
   },
   "outputs": [],
   "source": [
    "from tensorflow.keras.layers import Bidirectional\n",
    "from tensorflow.keras.models import load_model\n",
    "\n",
    "path = \"/content/Amazon_Reviews_Model.h5\"\n",
    "model = load_model(path, custom_objects={'Bidirectional': Bidirectional})"
   ]
  },
  {
   "cell_type": "markdown",
   "id": "kaNEyQAqFtY-",
   "metadata": {
    "id": "kaNEyQAqFtY-"
   },
   "source": [
    "PREDICTING RESULTS"
   ]
  },
  {
   "cell_type": "code",
   "execution_count": 54,
   "id": "UcxAMcpKjo1g",
   "metadata": {
    "executionInfo": {
     "elapsed": 3,
     "status": "ok",
     "timestamp": 1693822572466,
     "user": {
      "displayName": "Sharofiddin Juraev",
      "userId": "10378930749806600006"
     },
     "user_tz": -120
    },
    "id": "UcxAMcpKjo1g"
   },
   "outputs": [],
   "source": [
    "def make_rounded_predictions(model, X_test):\n",
    "    \"\"\"\n",
    "    Make predictions using a trained model, round the predictions to the nearest integer,\n",
    "    and then cast them to float.\n",
    "\n",
    "    Parameters:\n",
    "    model (model object): The trained machine learning model.\n",
    "    X_test (array-like or DataFrame): The data to make predictions on.\n",
    "\n",
    "    Returns:\n",
    "    numpy.ndarray: An array of rounded, float-casted predictions.\"\"\"\n",
    "    # Make predictions using the provided model\n",
    "    predictions = model.predict(X_test)\n",
    "\n",
    "    # Round the predictions to the nearest integer\n",
    "    rounded_predictions = predictions.round()\n",
    "\n",
    "    # Cast the rounded predictions to float\n",
    "    rounded_predictions = rounded_predictions.astype(\"float\")\n",
    "\n",
    "    return rounded_predictions"
   ]
  },
  {
   "cell_type": "code",
   "execution_count": 55,
   "id": "vlK1VCumjviP",
   "metadata": {
    "colab": {
     "base_uri": "https://localhost:8080/"
    },
    "executionInfo": {
     "elapsed": 1543,
     "status": "ok",
     "timestamp": 1693822574006,
     "user": {
      "displayName": "Sharofiddin Juraev",
      "userId": "10378930749806600006"
     },
     "user_tz": -120
    },
    "id": "vlK1VCumjviP",
    "outputId": "dd6ffc13-6c2c-43c8-e815-2d7d48aa200f"
   },
   "outputs": [
    {
     "name": "stdout",
     "output_type": "stream",
     "text": [
      "6/6 [==============================] - 1s 54ms/step\n",
      "[[0.]\n",
      " [1.]\n",
      " [1.]\n",
      " [0.]\n",
      " [0.]\n",
      " [0.]\n",
      " [0.]\n",
      " [0.]\n",
      " [0.]\n",
      " [1.]\n",
      " [1.]\n",
      " [0.]\n",
      " [1.]\n",
      " [0.]\n",
      " [1.]\n",
      " [0.]\n",
      " [1.]\n",
      " [0.]\n",
      " [0.]\n",
      " [1.]\n",
      " [0.]\n",
      " [1.]\n",
      " [0.]\n",
      " [1.]\n",
      " [1.]\n",
      " [0.]\n",
      " [1.]\n",
      " [1.]\n",
      " [1.]\n",
      " [0.]\n",
      " [1.]\n",
      " [1.]\n",
      " [0.]\n",
      " [1.]\n",
      " [0.]\n",
      " [0.]\n",
      " [1.]\n",
      " [0.]\n",
      " [1.]\n",
      " [0.]\n",
      " [1.]\n",
      " [0.]\n",
      " [0.]\n",
      " [1.]\n",
      " [0.]\n",
      " [1.]\n",
      " [0.]\n",
      " [0.]\n",
      " [0.]\n",
      " [0.]\n",
      " [1.]\n",
      " [0.]\n",
      " [0.]\n",
      " [0.]\n",
      " [0.]\n",
      " [0.]\n",
      " [0.]\n",
      " [0.]\n",
      " [0.]\n",
      " [0.]\n",
      " [0.]\n",
      " [0.]\n",
      " [0.]\n",
      " [1.]\n",
      " [0.]\n",
      " [0.]\n",
      " [0.]\n",
      " [0.]\n",
      " [0.]\n",
      " [0.]\n",
      " [1.]\n",
      " [0.]\n",
      " [1.]\n",
      " [0.]\n",
      " [0.]\n",
      " [1.]\n",
      " [0.]\n",
      " [0.]\n",
      " [1.]\n",
      " [0.]\n",
      " [1.]\n",
      " [1.]\n",
      " [0.]\n",
      " [0.]\n",
      " [0.]\n",
      " [1.]\n",
      " [0.]\n",
      " [0.]\n",
      " [1.]\n",
      " [1.]\n",
      " [0.]\n",
      " [1.]\n",
      " [1.]\n",
      " [1.]\n",
      " [1.]\n",
      " [0.]\n",
      " [1.]\n",
      " [1.]\n",
      " [0.]\n",
      " [1.]\n",
      " [1.]\n",
      " [1.]\n",
      " [0.]\n",
      " [0.]\n",
      " [0.]\n",
      " [1.]\n",
      " [1.]\n",
      " [0.]\n",
      " [0.]\n",
      " [0.]\n",
      " [1.]\n",
      " [0.]\n",
      " [0.]\n",
      " [0.]\n",
      " [1.]\n",
      " [0.]\n",
      " [1.]\n",
      " [1.]\n",
      " [1.]\n",
      " [1.]\n",
      " [0.]\n",
      " [1.]\n",
      " [1.]\n",
      " [0.]\n",
      " [0.]\n",
      " [0.]\n",
      " [1.]\n",
      " [0.]\n",
      " [1.]\n",
      " [1.]\n",
      " [0.]\n",
      " [0.]\n",
      " [0.]\n",
      " [1.]\n",
      " [0.]\n",
      " [0.]\n",
      " [1.]\n",
      " [1.]\n",
      " [1.]\n",
      " [1.]\n",
      " [1.]\n",
      " [0.]\n",
      " [1.]\n",
      " [0.]\n",
      " [1.]\n",
      " [0.]\n",
      " [0.]\n",
      " [0.]\n",
      " [1.]\n",
      " [0.]\n",
      " [0.]\n",
      " [0.]\n",
      " [0.]\n",
      " [0.]\n",
      " [1.]\n",
      " [0.]\n",
      " [0.]\n",
      " [1.]\n",
      " [0.]\n",
      " [0.]\n",
      " [1.]\n",
      " [1.]\n",
      " [1.]\n",
      " [1.]\n",
      " [0.]\n",
      " [0.]]\n"
     ]
    }
   ],
   "source": [
    "#Example usage:\n",
    "predictions = make_rounded_predictions(model, X_test)\n",
    "print(predictions.head())"
   ]
  },
  {
   "cell_type": "markdown",
   "id": "Px1U0P8dF1hm",
   "metadata": {
    "id": "Px1U0P8dF1hm"
   },
   "source": [
    "Accuracy of test set"
   ]
  },
  {
   "cell_type": "markdown",
   "id": "lscY4wJ1Hxcw",
   "metadata": {
    "id": "lscY4wJ1Hxcw"
   },
   "source": [
    "Confusion Matrix for test set"
   ]
  },
  {
   "cell_type": "code",
   "execution_count": 60,
   "id": "AHtOgOdJT3uj",
   "metadata": {
    "executionInfo": {
     "elapsed": 8,
     "status": "ok",
     "timestamp": 1693822574486,
     "user": {
      "displayName": "Sharofiddin Juraev",
      "userId": "10378930749806600006"
     },
     "user_tz": -120
    },
    "id": "AHtOgOdJT3uj"
   },
   "outputs": [],
   "source": [
    "from sklearn.metrics import accuracy_score, confusion_matrix, precision_score, recall_score, log_loss, f1_score, roc_auc_score"
   ]
  },
  {
   "cell_type": "code",
   "execution_count": 61,
   "id": "oOmLzShXTvyk",
   "metadata": {
    "executionInfo": {
     "elapsed": 8,
     "status": "ok",
     "timestamp": 1693822574486,
     "user": {
      "displayName": "Sharofiddin Juraev",
      "userId": "10378930749806600006"
     },
     "user_tz": -120
    },
    "id": "oOmLzShXTvyk"
   },
   "outputs": [],
   "source": [
    "def evaluate_model_performance(Y_test, preds):\n",
    "    \"\"\"\n",
    "    Evaluate the performance of a classification model based on various metrics.\n",
    "\n",
    "    Parameters:\n",
    "    Y_test (array-like): Ground truth (correct) target values.\n",
    "    preds (array-like): Estimated target values returned by a classifier.\n",
    "\n",
    "    Returns:\n",
    "    None: Prints the performance metrics.\n",
    "    \"\"\"\n",
    "\n",
    "    # Convert predicted probabilities to binary outputs (0 or 1)\n",
    "    binary_preds = 1 * (preds > 0.5)\n",
    "\n",
    "    # Calculate Accuracy Score: True Predictions / Total Predictions\n",
    "    accuracy = accuracy_score(Y_test, binary_preds)\n",
    "\n",
    "    # Calculate F1 Score: Harmonic mean of Precision and Recall\n",
    "    f1 = f1_score(Y_test, binary_preds)\n",
    "\n",
    "    # Calculate ROC AUC Score: Area under the Receiver Operating Characteristic curve\n",
    "    roc_auc = roc_auc_score(Y_test, preds)\n",
    "\n",
    "    # Calculate Precision: True Positives / (True Positives + False Positives)\n",
    "    precision = precision_score(Y_test, binary_preds)\n",
    "\n",
    "    # Calculate Recall or Sensitivity: True Positives / (True Positives + False Negatives)\n",
    "    recall = recall_score(Y_test, binary_preds)\n",
    "\n",
    "    # Calculate the Confusion Matrix: [tn, fp, fn, tp]\n",
    "    tn, fp, fn, tp = confusion_matrix(Y_test, binary_preds).ravel()\n",
    "\n",
    "    # Calculate Sensitivity: True Positives / (True Positives + False Negatives)\n",
    "    sensitivity = tp / (tp + fn)\n",
    "\n",
    "    # Calculate Specificity: True Negatives / (True Negatives + False Positives)\n",
    "    specificity = tn / (tn + fp)\n",
    "\n",
    "    # Calculate Cross-Entropy Loss: Measures performance of a classification model\n",
    "    cross_entropy = log_loss(Y_test, preds)\n",
    "\n",
    "    # Print the calculated metrics\n",
    "    print(f'Accuracy Score: {accuracy:.4f}')\n",
    "    print(f'F1 Score: {f1:.4f}')\n",
    "    print(f'ROC AUC Score: {roc_auc:.4f}')\n",
    "    print(f'Precision: {precision:.4f}')\n",
    "    print(f'Recall: {recall:.4f}')\n",
    "    print(f'Sensitivity: {sensitivity:.4f}')\n",
    "    print(f'Specificity: {specificity:.4f}')\n",
    "    print(f'Cross-Entropy Loss: {cross_entropy:.4f}')\n"
   ]
  },
  {
   "cell_type": "code",
   "execution_count": 62,
   "id": "GUuEj5OPTyC_",
   "metadata": {
    "colab": {
     "base_uri": "https://localhost:8080/"
    },
    "executionInfo": {
     "elapsed": 418,
     "status": "ok",
     "timestamp": 1693822574897,
     "user": {
      "displayName": "Sharofiddin Juraev",
      "userId": "10378930749806600006"
     },
     "user_tz": -120
    },
    "id": "GUuEj5OPTyC_",
    "outputId": "5d4752a7-70b1-466b-8324-51786ced6a43"
   },
   "outputs": [
    {
     "name": "stdout",
     "output_type": "stream",
     "text": [
      "6/6 [==============================] - 0s 44ms/step\n",
      "Accuracy Score: 0.8012\n",
      "F1 Score: 0.7815\n",
      "ROC AUC Score: 0.8842\n",
      "Precision: 0.8429\n",
      "Recall: 0.7284\n",
      "Sensitivity: 0.7284\n",
      "Specificity: 0.8706\n",
      "Cross-Entropy Loss: 0.4605\n"
     ]
    }
   ],
   "source": [
    "# Example usage:\n",
    "preds = model.predict(X_test)\n",
    "evaluate_model_performance(Y_test, preds)"
   ]
  },
  {
   "cell_type": "code",
   "execution_count": 63,
   "id": "urJJWaqwHyBi",
   "metadata": {
    "executionInfo": {
     "elapsed": 13,
     "status": "ok",
     "timestamp": 1693822574897,
     "user": {
      "displayName": "Sharofiddin Juraev",
      "userId": "10378930749806600006"
     },
     "user_tz": -120
    },
    "id": "urJJWaqwHyBi"
   },
   "outputs": [],
   "source": [
    "# from sklearn.metrics import confusion_matrix\n",
    "# cm = confusion_matrix(predictions, Y_test)\n",
    "# print(\"The Confusion Matrix for the test set is :\")\n",
    "# sns.heatmap(cm, square=True, annot=True, cmap=\"Blues\", fmt=\"d\", cbar=False)\n",
    "\n",
    "# #predictions = model.predict(X_test)\n"
   ]
  },
  {
   "cell_type": "code",
   "execution_count": 64,
   "id": "wfzGJ-8AfWF6",
   "metadata": {
    "executionInfo": {
     "elapsed": 14,
     "status": "ok",
     "timestamp": 1693822574898,
     "user": {
      "displayName": "Sharofiddin Juraev",
      "userId": "10378930749806600006"
     },
     "user_tz": -120
    },
    "id": "wfzGJ-8AfWF6"
   },
   "outputs": [],
   "source": [
    "from sklearn.metrics import confusion_matrix\n",
    "import seaborn as sns\n",
    "import matplotlib.pyplot as plt\n",
    "\n",
    "def plot_confusion_matrix(predictions, Y_test):\n",
    "    \"\"\"\n",
    "    Plot a confusion matrix heatmap for the given predicted and actual labels.\n",
    "\n",
    "    Parameters:\n",
    "    predictions (array-like): An array-like object containing predicted labels.\n",
    "    Y_test (array-like): An array-like object containing actual labels.\n",
    "\n",
    "    Returns:\n",
    "    None: This function only displays a heatmap of the confusion matrix.\n",
    "\n",
    "    Example usage:\n",
    "    >>> plot_confusion_matrix([0, 1, 0, 1, 1], [0, 1, 0, 0, 1])\n",
    "    \"\"\"\n",
    "    # Calculate the confusion matrix using scikit-learn's confusion_matrix function\n",
    "    cm = confusion_matrix(predictions, Y_test)\n",
    "\n",
    "    # Display the confusion matrix\n",
    "    print(\"The Confusion Matrix for the test set is:\")\n",
    "\n",
    "    # Create a heatmap using seaborn\n",
    "    sns.heatmap(cm,\n",
    "                square=True,        # Square shape for better visibility\n",
    "                annot=True,         # Annotate each cell with numeric value\n",
    "                cmap=\"Blues\",       # Use a blue color map\n",
    "                fmt=\"d\",            # Format annotations as integers\n",
    "                cbar=False)         # Remove the color bar for cleaner look\n",
    "\n",
    "    # Add title and labels\n",
    "    plt.title('Confusion Matrix')\n",
    "    plt.xlabel('Actual Label')\n",
    "    plt.ylabel('Predicted Label')\n",
    "\n",
    "    # Show the plot\n",
    "    plt.show()"
   ]
  },
  {
   "cell_type": "code",
   "execution_count": 65,
   "id": "5yzq4FEKfZ1S",
   "metadata": {
    "colab": {
     "base_uri": "https://localhost:8080/",
     "height": 489
    },
    "executionInfo": {
     "elapsed": 13,
     "status": "ok",
     "timestamp": 1693822574898,
     "user": {
      "displayName": "Sharofiddin Juraev",
      "userId": "10378930749806600006"
     },
     "user_tz": -120
    },
    "id": "5yzq4FEKfZ1S",
    "outputId": "29e4c2b7-4ff0-4911-b759-8f70ff1be856"
   },
   "outputs": [
    {
     "name": "stdout",
     "output_type": "stream",
     "text": [
      "The Confusion Matrix for the test set is:\n"
     ]
    },
    {
     "data": {
      "image/png": "[encoded data removed]",
      "text/plain": [
       "<Figure size 640x480 with 1 Axes>"
      ]
     },
     "metadata": {},
     "output_type": "display_data"
    }
   ],
   "source": [
    "# Example usage\n",
    "plot_confusion_matrix(predictions, Y_test)"
   ]
  },
  {
   "cell_type": "code",
   "execution_count": 66,
   "id": "vL1N7GksXkdy",
   "metadata": {
    "executionInfo": {
     "elapsed": 7,
     "status": "ok",
     "timestamp": 1693822574898,
     "user": {
      "displayName": "Sharofiddin Juraev",
      "userId": "10378930749806600006"
     },
     "user_tz": -120
    },
    "id": "vL1N7GksXkdy"
   },
   "outputs": [],
   "source": [
    "def calculate_predicted_and_actual(cm):\n",
    "    \"\"\"\n",
    "    Calculate and print the total number of predicted 'yes' and 'no' labels,\n",
    "    as well as the total number of actual positive and negative reviews.\n",
    "\n",
    "    Parameters:\n",
    "    cm (2x2 array-like): The confusion matrix, typically generated by sklearn's confusion_matrix().\n",
    "\n",
    "    Returns:\n",
    "    None: Prints the calculated numbers for Predicted_yes, Predicted_no, positive_reviews, and negative_reviews.\n",
    "    \"\"\"\n",
    "\n",
    "    # Calculate the total number of predicted 'yes' and 'no' labels\n",
    "    Predicted_yes = cm[0, 1] + cm[1, 1]\n",
    "    Predicted_no = cm[0, 0] + cm[1, 0]\n",
    "\n",
    "    # Print the total number of predicted 'yes' and 'no' labels\n",
    "    print(f'Total number of Predicted \"Yes\": {Predicted_yes}')\n",
    "    print(f'Total number of Predicted \"No\": {Predicted_no}')\n",
    "\n",
    "    # Calculate the total number of actual positive and negative reviews\n",
    "    positive_reviews = cm[1, 0] + cm[1, 1]\n",
    "    negative_reviews = cm[0, 0] + cm[0, 1]\n",
    "\n",
    "    # Print the total number of actual positive and negative reviews\n",
    "    print(f'Total number of actual Positive Reviews: {positive_reviews}')\n",
    "    print(f'Total number of actual Negative Reviews: {negative_reviews}')\n"
   ]
  },
  {
   "cell_type": "code",
   "execution_count": 67,
   "id": "BlT8LSBBXmbs",
   "metadata": {
    "colab": {
     "base_uri": "https://localhost:8080/"
    },
    "executionInfo": {
     "elapsed": 8,
     "status": "ok",
     "timestamp": 1693822574899,
     "user": {
      "displayName": "Sharofiddin Juraev",
      "userId": "10378930749806600006"
     },
     "user_tz": -120
    },
    "id": "BlT8LSBBXmbs",
    "outputId": "f92ebff0-f8fe-4b12-9345-4d37db5cd643"
   },
   "outputs": [
    {
     "name": "stdout",
     "output_type": "stream",
     "text": [
      "Total number of Predicted \"Yes\": 81\n",
      "Total number of Predicted \"No\": 85\n",
      "Total number of actual Positive Reviews: 70\n",
      "Total number of actual Negative Reviews: 96\n"
     ]
    }
   ],
   "source": [
    "# Example usage:\n",
    "cm = confusion_matrix(predictions, Y_test)\n",
    "calculate_predicted_and_actual(cm)"
   ]
  },
  {
   "cell_type": "markdown",
   "id": "um_mTLDVIaMJ",
   "metadata": {
    "id": "um_mTLDVIaMJ"
   },
   "source": [
    "CONCLUSION\n",
    "\n",
    "1. We have a balanced dataset having equal no. of positive and negative reviews.\n",
    "2. Out of all the feaatures 'review-text' is the most important as we can determine sentiment of the review using that only.\n",
    "3. We defined a text_preprocessing function to convert the reviews into meaningful cleaned reviews.\n",
    "4. After text pre-processing we created the model for training and testing purpose."
   ]
  },
  {
   "cell_type": "code",
   "execution_count": 68,
   "id": "7_3G5JXYYOdC",
   "metadata": {
    "executionInfo": {
     "elapsed": 6,
     "status": "ok",
     "timestamp": 1693822574899,
     "user": {
      "displayName": "Sharofiddin Juraev",
      "userId": "10378930749806600006"
     },
     "user_tz": -120
    },
    "id": "7_3G5JXYYOdC"
   },
   "outputs": [],
   "source": [
    "from sklearn.datasets import make_classification\n",
    "from sklearn.model_selection import train_test_split\n",
    "from sklearn.linear_model import LogisticRegression\n",
    "from sklearn.metrics import roc_curve, roc_auc_score\n",
    "import matplotlib.pyplot as plt\n",
    "\n",
    "def plot_roc_curve(n_samples=1000, n_features=20, n_informative=15, n_redundant=5,\n",
    "                   n_clusters_per_class=2, weights=[0.5], flip_y=0, random_state=42, test_size=0.3):\n",
    "    \"\"\"\n",
    "    Generate synthetic data, train a logistic regression classifier, and plot the ROC curve.\n",
    "\n",
    "    Parameters:\n",
    "    - n_samples: The number of samples.\n",
    "    - n_features: The number of features.\n",
    "    - n_informative: The number of informative features.\n",
    "    - n_redundant: The number of redundant features.\n",
    "    - n_clusters_per_class: The number of clusters per class.\n",
    "    - weights: The proportions of samples for each class.\n",
    "    - flip_y: The fraction of samples whose class is randomly exchanged.\n",
    "    - random_state: Random seed for reproducibility.\n",
    "    - test_size: Proportion of the dataset to include in the test split.\n",
    "\n",
    "    Returns:\n",
    "    None: Displays the ROC curve.\n",
    "    \"\"\"\n",
    "\n",
    "    # Create synthetic data\n",
    "    X, y = make_classification(n_samples=n_samples, n_features=n_features,\n",
    "                               n_informative=n_informative, n_redundant=n_redundant,\n",
    "                               n_clusters_per_class=n_clusters_per_class, weights=weights,\n",
    "                               flip_y=flip_y, random_state=random_state)\n",
    "\n",
    "    # Split data into training and test sets\n",
    "    X_train, X_test, y_train, y_test = train_test_split(X, y, test_size=test_size, random_state=random_state)\n",
    "\n",
    "    # Train a logistic regression classifier\n",
    "    clf = LogisticRegression()\n",
    "    clf.fit(X_train, y_train)\n",
    "\n",
    "    # Get predicted probabilities for the positive class\n",
    "    y_pred_proba = clf.predict_proba(X_test)[:, 1]\n",
    "\n",
    "    # Compute ROC curve\n",
    "    fpr, tpr, _ = roc_curve(y_test, y_pred_proba)\n",
    "\n",
    "    # Compute ROC AUC\n",
    "    roc_auc = roc_auc_score(y_test, y_pred_proba)\n",
    "\n",
    "    # Plot ROC curve\n",
    "    plt.figure()\n",
    "    plt.plot(fpr, tpr, color='darkorange', lw=1, label=f'ROC curve (AUC = {roc_auc:.2f})')\n",
    "    plt.plot([0, 1], [0, 1], color='navy', lw=1, linestyle='--')\n",
    "    plt.xlim([0.0, 1.0])\n",
    "    plt.ylim([0.0, 1.05])\n",
    "    plt.xlabel('False Positive Rate')\n",
    "    plt.ylabel('True Positive Rate')\n",
    "    plt.title('Receiver Operating Characteristic')\n",
    "    plt.legend(loc=\"lower right\")\n",
    "    plt.show()"
   ]
  },
  {
   "cell_type": "code",
   "execution_count": 69,
   "id": "K8Y29Wv1YQ5D",
   "metadata": {
    "colab": {
     "base_uri": "https://localhost:8080/",
     "height": 472
    },
    "executionInfo": {
     "elapsed": 474,
     "status": "ok",
     "timestamp": 1693822575367,
     "user": {
      "displayName": "Sharofiddin Juraev",
      "userId": "10378930749806600006"
     },
     "user_tz": -120
    },
    "id": "K8Y29Wv1YQ5D",
    "outputId": "25ca1bfd-a37e-43cf-9016-ea39d4311adb"
   },
   "outputs": [
    {
     "data": {
      "image/png": "[encoded data removed]",
      "text/plain": [
       "<Figure size 640x480 with 1 Axes>"
      ]
     },
     "metadata": {},
     "output_type": "display_data"
    }
   ],
   "source": [
    "plot_roc_curve()"
   ]
  },
  {
   "cell_type": "code",
   "execution_count": 70,
   "id": "hS688ykCUJ7b",
   "metadata": {
    "colab": {
     "base_uri": "https://localhost:8080/",
     "height": 122
    },
    "executionInfo": {
     "elapsed": 8,
     "status": "ok",
     "timestamp": 1693822575368,
     "user": {
      "displayName": "Sharofiddin Juraev",
      "userId": "10378930749806600006"
     },
     "user_tz": -120
    },
    "id": "hS688ykCUJ7b",
    "outputId": "bb812ef0-0c42-4025-d0fd-22095b01d8fa"
   },
   "outputs": [
    {
     "data": {
      "application/vnd.google.colaboratory.intrinsic+json": {
       "type": "string"
      },
      "text/plain": [
       "'\\nimport os\\nimport urllib.request\\nimport zipfile\\n\\n# Define the URL and the local path where the file should be saved\\nGLOVE_URL = \\'https://nlp.stanford.edu/data/glove.twitter.27B.zip\\'\\nGLOVE_DIR = \\'path/to/store/glove/\\'\\n\\n# Create directory if it doesn\\'t exist\\nif not os.path.exists(GLOVE_DIR):\\n    os.makedirs(GLOVE_DIR)\\n\\n# Define the path to check if the file is already downloaded\\nglove_zip_path = os.path.join(GLOVE_DIR, \\'glove.twitter.27B.zip\\')\\n\\n# Check if the file is already downloaded. If not, download it.\\nif not os.path.exists(glove_zip_path):\\n    print(\"GloVe embeddings not found. Downloading...\")\\n    urllib.request.urlretrieve(GLOVE_URL, glove_zip_path)\\n    print(f\"Downloaded GloVe embeddings to {glove_zip_path}\")\\n\\n    # Unzipping the downloaded file\\n    with zipfile.ZipFile(glove_zip_path, \\'r\\') as zip_ref:\\n        zip_ref.extractall(GLOVE_DIR)\\n    print(f\"Unzipped GloVe embeddings in {GLOVE_DIR}\")\\nelse:\\n    print(\"GloVe embeddings already exist. Skipping download.\")\\n\\n'"
      ]
     },
     "execution_count": 70,
     "metadata": {},
     "output_type": "execute_result"
    }
   ],
   "source": [
    "\"\"\"\n",
    "import os\n",
    "import urllib.request\n",
    "import zipfile\n",
    "\n",
    "# Define the URL and the local path where the file should be saved\n",
    "GLOVE_URL = 'https://nlp.stanford.edu/data/glove.twitter.27B.zip'\n",
    "GLOVE_DIR = 'path/to/store/glove/'\n",
    "\n",
    "# Create directory if it doesn't exist\n",
    "if not os.path.exists(GLOVE_DIR):\n",
    "    os.makedirs(GLOVE_DIR)\n",
    "\n",
    "# Define the path to check if the file is already downloaded\n",
    "glove_zip_path = os.path.join(GLOVE_DIR, 'glove.twitter.27B.zip')\n",
    "\n",
    "# Check if the file is already downloaded. If not, download it.\n",
    "if not os.path.exists(glove_zip_path):\n",
    "    print(\"GloVe embeddings not found. Downloading...\")\n",
    "    urllib.request.urlretrieve(GLOVE_URL, glove_zip_path)\n",
    "    print(f\"Downloaded GloVe embeddings to {glove_zip_path}\")\n",
    "\n",
    "    # Unzipping the downloaded file\n",
    "    with zipfile.ZipFile(glove_zip_path, 'r') as zip_ref:\n",
    "        zip_ref.extractall(GLOVE_DIR)\n",
    "    print(f\"Unzipped GloVe embeddings in {GLOVE_DIR}\")\n",
    "else:\n",
    "    print(\"GloVe embeddings already exist. Skipping download.\")\n",
    "\n",
    "\"\"\""
   ]
  }
 ],
 "metadata": {
  "accelerator": "GPU",
  "colab": {
   "gpuType": "T4",
   "provenance": [
    {
     "file_id": "1q89873mtIe7IffkXpBwt08j4mCbPCHNs",
     "timestamp": 1693236541261
    }
   ]
  },
  "kernelspec": {
   "display_name": "Python 3 (ipykernel)",
   "language": "python",
   "name": "python3"
  },
  "language_info": {
   "codemirror_mode": {
    "name": "ipython",
    "version": 3
   },
   "file_extension": ".py",
   "mimetype": "text/x-python",
   "name": "python",
   "nbconvert_exporter": "python",
   "pygments_lexer": "ipython3",
   "version": "3.9.12"
  }
 },
 "nbformat": 4,
 "nbformat_minor": 5
}
